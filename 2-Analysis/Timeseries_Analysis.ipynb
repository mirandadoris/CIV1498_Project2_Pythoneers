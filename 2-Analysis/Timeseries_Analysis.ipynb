{
 "cells": [
  {
   "cell_type": "markdown",
   "metadata": {
    "collapsed": true,
    "pycharm": {
     "name": "#%% md\n"
    }
   },
   "source": [
    "Options:\n",
    "\n",
    "Weather & AQ: hourly measurements\n",
    "hourly:\n",
    "    - average (temp, humidity, windspeed, wind direction) vs hour of the day\n",
    "    - ave. pollutant conc. vs hour of the day\n",
    "    - plot of AQ and weather - plot hourly, daily, and monthly on the same graph as an example to show \"noise\"\n",
    "daily:\n",
    "    - difference in AQ depending on day (weekday vs weekend?)\n",
    "\n",
    "Weather, AQ, Prod and Drill: monthly\n",
    "    - how does each look plotting monthly values over entire timeseries\n",
    "    - yearly trends? seasonal trends?\n",
    "    - covid impact?\n",
    "    - forest fire impact (what months in BC are most common for forest fires?)"
   ]
  }
 ],
 "metadata": {
  "kernelspec": {
   "display_name": "Python 3",
   "language": "python",
   "name": "python3"
  },
  "language_info": {
   "codemirror_mode": {
    "name": "ipython",
    "version": 2
   },
   "file_extension": ".py",
   "mimetype": "text/x-python",
   "name": "python",
   "nbconvert_exporter": "python",
   "pygments_lexer": "ipython2",
   "version": "2.7.6"
  }
 },
 "nbformat": 4,
 "nbformat_minor": 0
}