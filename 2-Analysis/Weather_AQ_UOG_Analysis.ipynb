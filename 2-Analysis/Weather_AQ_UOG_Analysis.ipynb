{
 "cells": [
  {
   "cell_type": "code",
   "execution_count": 1,
   "metadata": {
    "collapsed": true
   },
   "outputs": [],
   "source": [
    "import numpy as np\n",
    "import pandas as pd\n",
    "import seaborn as sns\n",
    "import matplotlib.pyplot as plt"
   ]
  },
  {
   "cell_type": "code",
   "execution_count": 13,
   "outputs": [
    {
     "data": {
      "text/plain": "            TEMP_MEAN_(C)  WDIR_VECT_(DEG)  WSPD_SCLR_(M/S)  HUMIDITY_(%)  \\\nDatetime                                                                    \n2019-01-01       2.879167       261.875000         7.595833     68.220833   \n2019-01-02       4.066667       256.179167         8.525000     64.683333   \n2019-01-03      -6.262500       281.950000         2.079167     72.279167   \n2019-01-04      -7.912500       187.333333         0.779167     88.525000   \n2019-01-05      -9.120833       121.070833         1.870833     88.825000   \n\n                 NOx       SO2        NO       NO2       TRS         O3  \\\nDatetime                                                                  \n2019-01-01  0.820833  0.333333  0.268750  0.543750  0.183333  37.122917   \n2019-01-02  0.739583  0.283333  0.229167  0.510417  0.104167  37.287500   \n2019-01-03  6.056250  0.297917  0.677083  5.362500  0.110417  28.483333   \n2019-01-04  6.258333  0.687500  0.377083  5.879167  0.172917  24.160417   \n2019-01-05  5.381250  1.010417  0.737500  4.652083  0.139583  26.127083   \n\n            Depth_per_day  \nDatetime                   \n2019-01-01     252.000000  \n2019-01-02     252.000000  \n2019-01-03     588.502415  \n2019-01-04     807.002415  \n2019-01-05     807.002415  ",
      "text/html": "<div>\n<style scoped>\n    .dataframe tbody tr th:only-of-type {\n        vertical-align: middle;\n    }\n\n    .dataframe tbody tr th {\n        vertical-align: top;\n    }\n\n    .dataframe thead th {\n        text-align: right;\n    }\n</style>\n<table border=\"1\" class=\"dataframe\">\n  <thead>\n    <tr style=\"text-align: right;\">\n      <th></th>\n      <th>TEMP_MEAN_(C)</th>\n      <th>WDIR_VECT_(DEG)</th>\n      <th>WSPD_SCLR_(M/S)</th>\n      <th>HUMIDITY_(%)</th>\n      <th>NOx</th>\n      <th>SO2</th>\n      <th>NO</th>\n      <th>NO2</th>\n      <th>TRS</th>\n      <th>O3</th>\n      <th>Depth_per_day</th>\n    </tr>\n    <tr>\n      <th>Datetime</th>\n      <th></th>\n      <th></th>\n      <th></th>\n      <th></th>\n      <th></th>\n      <th></th>\n      <th></th>\n      <th></th>\n      <th></th>\n      <th></th>\n      <th></th>\n    </tr>\n  </thead>\n  <tbody>\n    <tr>\n      <th>2019-01-01</th>\n      <td>2.879167</td>\n      <td>261.875000</td>\n      <td>7.595833</td>\n      <td>68.220833</td>\n      <td>0.820833</td>\n      <td>0.333333</td>\n      <td>0.268750</td>\n      <td>0.543750</td>\n      <td>0.183333</td>\n      <td>37.122917</td>\n      <td>252.000000</td>\n    </tr>\n    <tr>\n      <th>2019-01-02</th>\n      <td>4.066667</td>\n      <td>256.179167</td>\n      <td>8.525000</td>\n      <td>64.683333</td>\n      <td>0.739583</td>\n      <td>0.283333</td>\n      <td>0.229167</td>\n      <td>0.510417</td>\n      <td>0.104167</td>\n      <td>37.287500</td>\n      <td>252.000000</td>\n    </tr>\n    <tr>\n      <th>2019-01-03</th>\n      <td>-6.262500</td>\n      <td>281.950000</td>\n      <td>2.079167</td>\n      <td>72.279167</td>\n      <td>6.056250</td>\n      <td>0.297917</td>\n      <td>0.677083</td>\n      <td>5.362500</td>\n      <td>0.110417</td>\n      <td>28.483333</td>\n      <td>588.502415</td>\n    </tr>\n    <tr>\n      <th>2019-01-04</th>\n      <td>-7.912500</td>\n      <td>187.333333</td>\n      <td>0.779167</td>\n      <td>88.525000</td>\n      <td>6.258333</td>\n      <td>0.687500</td>\n      <td>0.377083</td>\n      <td>5.879167</td>\n      <td>0.172917</td>\n      <td>24.160417</td>\n      <td>807.002415</td>\n    </tr>\n    <tr>\n      <th>2019-01-05</th>\n      <td>-9.120833</td>\n      <td>121.070833</td>\n      <td>1.870833</td>\n      <td>88.825000</td>\n      <td>5.381250</td>\n      <td>1.010417</td>\n      <td>0.737500</td>\n      <td>4.652083</td>\n      <td>0.139583</td>\n      <td>26.127083</td>\n      <td>807.002415</td>\n    </tr>\n  </tbody>\n</table>\n</div>"
     },
     "execution_count": 13,
     "metadata": {},
     "output_type": "execute_result"
    }
   ],
   "source": [
    "# read in cleaned weather, air quality, drilling, and production files\n",
    "AQ_data = pd.read_csv('FarmingtonCommunityHall_AQ.csv')\n",
    "weather_data = pd.read_csv('weather_data.csv')\n",
    "drill_data = pd.read_csv('drill_final.csv')\n",
    "production_data_monthly = pd.read_csv('production_monthly.csv')\n",
    "production_data_daily = pd.read_csv('production_daily.csv')\n",
    "\n",
    "# drop the WDIR_UVEC_(DEG) column\n",
    "weather_data.drop('WDIR_UVEC_(DEG)', axis=1, inplace=True)\n",
    "\n",
    "# combine cleaned file into one dataframe\n",
    "AQ_weather_hourly = weather_data.merge(right=AQ_data,\n",
    "                                     how='inner')\n",
    "# Reset DateTimeIndex\n",
    "AQ_weather_hourly = AQ_weather_hourly.set_index(pd.DatetimeIndex(AQ_weather_hourly['Datetime']))\n",
    "\n",
    "# Resample AQ and weather to daily\n",
    "AQ_weather_daily = AQ_weather_hourly.resample('D').mean()\n",
    "\n",
    "# Combine daily weather, AQ and drilling and production\n",
    "drill_data.rename(columns={'Date':'Datetime'}, inplace=True)\n",
    "drill_data = drill_data.set_index(pd.DatetimeIndex(drill_data['Datetime']))\n",
    "drill_data.drop('Datetime', axis=1, inplace=True)\n",
    "AQ_weather_drilling_daily = AQ_weather_daily.merge(right=drill_data,\n",
    "                                                  how='inner',\n",
    "                                                  left_index=True,\n",
    "                                                  right_index=True)\n",
    "AQ_weather_drilling_prod_daily =\n",
    "# View df\n",
    "AQ_weather_drilling_daily.head()\n"
   ],
   "metadata": {
    "collapsed": false,
    "pycharm": {
     "name": "#%%\n"
    }
   }
  },
  {
   "cell_type": "code",
   "execution_count": 5,
   "outputs": [
    {
     "data": {
      "text/plain": "                  Date  Depth_per_day\nDate                                 \n2019-01-01  2019-01-01     252.000000\n2019-01-02  2019-01-02     252.000000\n2019-01-03  2019-01-03     588.502415\n2019-01-04  2019-01-04     807.002415\n2019-01-05  2019-01-05     807.002415",
      "text/html": "<div>\n<style scoped>\n    .dataframe tbody tr th:only-of-type {\n        vertical-align: middle;\n    }\n\n    .dataframe tbody tr th {\n        vertical-align: top;\n    }\n\n    .dataframe thead th {\n        text-align: right;\n    }\n</style>\n<table border=\"1\" class=\"dataframe\">\n  <thead>\n    <tr style=\"text-align: right;\">\n      <th></th>\n      <th>Date</th>\n      <th>Depth_per_day</th>\n    </tr>\n    <tr>\n      <th>Date</th>\n      <th></th>\n      <th></th>\n    </tr>\n  </thead>\n  <tbody>\n    <tr>\n      <th>2019-01-01</th>\n      <td>2019-01-01</td>\n      <td>252.000000</td>\n    </tr>\n    <tr>\n      <th>2019-01-02</th>\n      <td>2019-01-02</td>\n      <td>252.000000</td>\n    </tr>\n    <tr>\n      <th>2019-01-03</th>\n      <td>2019-01-03</td>\n      <td>588.502415</td>\n    </tr>\n    <tr>\n      <th>2019-01-04</th>\n      <td>2019-01-04</td>\n      <td>807.002415</td>\n    </tr>\n    <tr>\n      <th>2019-01-05</th>\n      <td>2019-01-05</td>\n      <td>807.002415</td>\n    </tr>\n  </tbody>\n</table>\n</div>"
     },
     "execution_count": 5,
     "metadata": {},
     "output_type": "execute_result"
    }
   ],
   "source": [
    "production_data_daily = pd.read_csv('production_daily.csv')\n"
   ],
   "metadata": {
    "collapsed": false,
    "pycharm": {
     "name": "#%%\n"
    }
   }
  }
 ],
 "metadata": {
  "kernelspec": {
   "display_name": "Python 3",
   "language": "python",
   "name": "python3"
  },
  "language_info": {
   "codemirror_mode": {
    "name": "ipython",
    "version": 2
   },
   "file_extension": ".py",
   "mimetype": "text/x-python",
   "name": "python",
   "nbconvert_exporter": "python",
   "pygments_lexer": "ipython2",
   "version": "2.7.6"
  }
 },
 "nbformat": 4,
 "nbformat_minor": 0
}