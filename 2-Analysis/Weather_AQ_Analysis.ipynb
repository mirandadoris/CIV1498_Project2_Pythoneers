{
 "cells": [
  {
   "cell_type": "markdown",
   "metadata": {
    "collapsed": true,
    "pycharm": {
     "name": "#%% md\n"
    }
   },
   "source": [
    "The following notebook will explore any trends between the air quality data and the weather data. Both datasets contain hourly measurements."
   ]
  },
  {
   "cell_type": "code",
   "execution_count": 38,
   "outputs": [],
   "source": [
    "# Import 3rd party libraries\n",
    "import numpy as np\n",
    "import pandas as pd\n",
    "import seaborn as sns\n",
    "import matplotlib.pyplot as plt\n",
    "from datetime import datetime\n",
    "import re\n",
    "\n",
    "# Configure Notebook\n",
    "%matplotlib inline\n",
    "plt.style.use('fivethirtyeight')\n",
    "sns.set_context(\"notebook\")\n",
    "import warnings\n",
    "warnings.filterwarnings('ignore')\n"
   ],
   "metadata": {
    "collapsed": false,
    "pycharm": {
     "name": "#%%\n"
    }
   }
  },
  {
   "cell_type": "code",
   "execution_count": 45,
   "outputs": [
    {
     "data": {
      "text/plain": "              Datetime  TEMP_MEAN_(C)  WDIR_VECT_(DEG)  WDIR_UVEC_(DEG)  \\\n0  2019-01-01 01:00:00            0.8            272.7            273.2   \n1  2019-01-01 02:00:00            0.8            274.6            275.0   \n2  2019-01-01 03:00:00            1.2            274.9            274.8   \n3  2019-01-01 04:00:00            0.7            268.3            268.6   \n4  2019-01-01 05:00:00            1.1            263.5            263.6   \n\n   WSPD_SCLR_(M/S)  HUMIDITY_(%)  \n0             10.0          67.1  \n1              8.8          66.8  \n2              8.4          66.0  \n3              7.7          68.6  \n4             10.4          69.6  ",
      "text/html": "<div>\n<style scoped>\n    .dataframe tbody tr th:only-of-type {\n        vertical-align: middle;\n    }\n\n    .dataframe tbody tr th {\n        vertical-align: top;\n    }\n\n    .dataframe thead th {\n        text-align: right;\n    }\n</style>\n<table border=\"1\" class=\"dataframe\">\n  <thead>\n    <tr style=\"text-align: right;\">\n      <th></th>\n      <th>Datetime</th>\n      <th>TEMP_MEAN_(C)</th>\n      <th>WDIR_VECT_(DEG)</th>\n      <th>WDIR_UVEC_(DEG)</th>\n      <th>WSPD_SCLR_(M/S)</th>\n      <th>HUMIDITY_(%)</th>\n    </tr>\n  </thead>\n  <tbody>\n    <tr>\n      <th>0</th>\n      <td>2019-01-01 01:00:00</td>\n      <td>0.8</td>\n      <td>272.7</td>\n      <td>273.2</td>\n      <td>10.0</td>\n      <td>67.1</td>\n    </tr>\n    <tr>\n      <th>1</th>\n      <td>2019-01-01 02:00:00</td>\n      <td>0.8</td>\n      <td>274.6</td>\n      <td>275.0</td>\n      <td>8.8</td>\n      <td>66.8</td>\n    </tr>\n    <tr>\n      <th>2</th>\n      <td>2019-01-01 03:00:00</td>\n      <td>1.2</td>\n      <td>274.9</td>\n      <td>274.8</td>\n      <td>8.4</td>\n      <td>66.0</td>\n    </tr>\n    <tr>\n      <th>3</th>\n      <td>2019-01-01 04:00:00</td>\n      <td>0.7</td>\n      <td>268.3</td>\n      <td>268.6</td>\n      <td>7.7</td>\n      <td>68.6</td>\n    </tr>\n    <tr>\n      <th>4</th>\n      <td>2019-01-01 05:00:00</td>\n      <td>1.1</td>\n      <td>263.5</td>\n      <td>263.6</td>\n      <td>10.4</td>\n      <td>69.6</td>\n    </tr>\n  </tbody>\n</table>\n</div>"
     },
     "execution_count": 45,
     "metadata": {},
     "output_type": "execute_result"
    }
   ],
   "source": [
    "# Switch to data cleaning branch and read in cleaned air quality and weather dataframes\n",
    "#!git   checkout 1-Data_cleaning\n",
    "weather_data = pd.read_csv(r\"C:\\Users\\user\\PycharmProjects\\CIV1498Project2\\1-Data_cleaning\\weather_data_cleaned.csv\")\n",
    "aq_data = pd.read_csv(r\"\")\n"
   ],
   "metadata": {
    "collapsed": false,
    "pycharm": {
     "name": "#%%\n"
    }
   }
  },
  {
   "cell_type": "code",
   "execution_count": null,
   "outputs": [],
   "source": [],
   "metadata": {
    "collapsed": false,
    "pycharm": {
     "name": "#%%\n"
    }
   }
  }
 ],
 "metadata": {
  "kernelspec": {
   "display_name": "Python 3",
   "language": "python",
   "name": "python3"
  },
  "language_info": {
   "codemirror_mode": {
    "name": "ipython",
    "version": 2
   },
   "file_extension": ".py",
   "mimetype": "text/x-python",
   "name": "python",
   "nbconvert_exporter": "python",
   "pygments_lexer": "ipython2",
   "version": "2.7.6"
  }
 },
 "nbformat": 4,
 "nbformat_minor": 0
}