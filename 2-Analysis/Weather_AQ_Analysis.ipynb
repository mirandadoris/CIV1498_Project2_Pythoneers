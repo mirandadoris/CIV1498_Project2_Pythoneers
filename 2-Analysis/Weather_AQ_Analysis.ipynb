{
 "cells": [
  {
   "cell_type": "markdown",
   "metadata": {
    "collapsed": true,
    "pycharm": {
     "name": "#%% md\n"
    }
   },
   "source": [
    "The following notebook will explore any trends between the air quality data and the weather data. Both datasets contain hourly measurements."
   ]
  },
  {
   "cell_type": "code",
   "execution_count": 38,
   "outputs": [],
   "source": [
    "# Import 3rd party libraries\n",
    "import numpy as np\n",
    "import pandas as pd\n",
    "import seaborn as sns\n",
    "import matplotlib.pyplot as plt\n",
    "from datetime import datetime\n",
    "import re\n",
    "\n",
    "# Configure Notebook\n",
    "%matplotlib inline\n",
    "plt.style.use('fivethirtyeight')\n",
    "sns.set_context(\"notebook\")\n",
    "import warnings\n",
    "warnings.filterwarnings('ignore')\n"
   ],
   "metadata": {
    "collapsed": false,
    "pycharm": {
     "name": "#%%\n"
    }
   }
  },
  {
   "cell_type": "code",
   "execution_count": 46,
   "outputs": [],
   "source": [
    "# Switch to data cleaning branch and read in cleaned air quality and weather dataframes\n",
    "#!git   checkout 1-Data_cleaning\n",
    "weather_data = pd.read_csv(r\"C:\\Users\\user\\PycharmProjects\\CIV1498Project2\\1-Data_cleaning\\weather_data_cleaned.csv\")\n",
    "aq_data = pd.read_csv(r\"C:\\Users\\user\\PycharmProjects\\CIV1498Project2\\1-Data_cleaning\\aq_data_cleaned.csv\")"
   ],
   "metadata": {
    "collapsed": false,
    "pycharm": {
     "name": "#%%\n"
    }
   }
  },
  {
   "cell_type": "code",
   "execution_count": 50,
   "outputs": [
    {
     "name": "stdout",
     "output_type": "stream",
     "text": [
      "<class 'pandas.core.frame.DataFrame'>\n",
      "RangeIndex: 26304 entries, 0 to 26303\n",
      "Data columns (total 15 columns):\n",
      " #   Column           Non-Null Count  Dtype  \n",
      "---  ------           --------------  -----  \n",
      " 0   Datetime         26304 non-null  object \n",
      " 1   TEMP_MEAN_(C)    26304 non-null  float64\n",
      " 2   WDIR_VECT_(DEG)  26304 non-null  float64\n",
      " 3   WDIR_UVEC_(DEG)  26304 non-null  float64\n",
      " 4   WSPD_SCLR_(M/S)  26304 non-null  float64\n",
      " 5   HUMIDITY_(%)     26304 non-null  float64\n",
      " 6   Unnamed: 0       26304 non-null  int64  \n",
      " 7   Date             26304 non-null  object \n",
      " 8   Time             26304 non-null  object \n",
      " 9   NOx              24927 non-null  float64\n",
      " 10  SO2              24791 non-null  float64\n",
      " 11  NO               24927 non-null  float64\n",
      " 12  NO2              24927 non-null  float64\n",
      " 13  TRS              24567 non-null  float64\n",
      " 14  O3               24944 non-null  float64\n",
      "dtypes: float64(11), int64(1), object(3)\n",
      "memory usage: 3.0+ MB\n",
      "None\n"
     ]
    },
    {
     "data": {
      "text/plain": "              Datetime  TEMP_MEAN_(C)  WDIR_VECT_(DEG)  WDIR_UVEC_(DEG)  \\\n0  2019-01-01 01:00:00            0.8            272.7            273.2   \n1  2019-01-01 02:00:00            0.8            274.6            275.0   \n2  2019-01-01 03:00:00            1.2            274.9            274.8   \n3  2019-01-01 04:00:00            0.7            268.3            268.6   \n4  2019-01-01 05:00:00            1.1            263.5            263.6   \n\n   WSPD_SCLR_(M/S)  HUMIDITY_(%)  Unnamed: 0        Date      Time  NOx  SO2  \\\n0             10.0          67.1           0  12/31/2018  24:00 AM  0.6  0.4   \n1              8.8          66.8           1    1/1/2019   1:00 AM  1.2  0.4   \n2              8.4          66.0           2    1/1/2019   2:00 AM  NaN  NaN   \n3              7.7          68.6           3    1/1/2019   3:00 AM  0.6  0.2   \n4             10.4          69.6           4    1/1/2019   4:00 AM  1.7  0.1   \n\n    NO  NO2  TRS    O3  \n0  0.0  0.6  0.6  38.3  \n1  0.2  1.0  0.7  37.6  \n2  NaN  NaN  NaN   NaN  \n3  0.1  0.5  0.1  38.1  \n4  0.1  1.6  0.0  36.7  ",
      "text/html": "<div>\n<style scoped>\n    .dataframe tbody tr th:only-of-type {\n        vertical-align: middle;\n    }\n\n    .dataframe tbody tr th {\n        vertical-align: top;\n    }\n\n    .dataframe thead th {\n        text-align: right;\n    }\n</style>\n<table border=\"1\" class=\"dataframe\">\n  <thead>\n    <tr style=\"text-align: right;\">\n      <th></th>\n      <th>Datetime</th>\n      <th>TEMP_MEAN_(C)</th>\n      <th>WDIR_VECT_(DEG)</th>\n      <th>WDIR_UVEC_(DEG)</th>\n      <th>WSPD_SCLR_(M/S)</th>\n      <th>HUMIDITY_(%)</th>\n      <th>Unnamed: 0</th>\n      <th>Date</th>\n      <th>Time</th>\n      <th>NOx</th>\n      <th>SO2</th>\n      <th>NO</th>\n      <th>NO2</th>\n      <th>TRS</th>\n      <th>O3</th>\n    </tr>\n  </thead>\n  <tbody>\n    <tr>\n      <th>0</th>\n      <td>2019-01-01 01:00:00</td>\n      <td>0.8</td>\n      <td>272.7</td>\n      <td>273.2</td>\n      <td>10.0</td>\n      <td>67.1</td>\n      <td>0</td>\n      <td>12/31/2018</td>\n      <td>24:00 AM</td>\n      <td>0.6</td>\n      <td>0.4</td>\n      <td>0.0</td>\n      <td>0.6</td>\n      <td>0.6</td>\n      <td>38.3</td>\n    </tr>\n    <tr>\n      <th>1</th>\n      <td>2019-01-01 02:00:00</td>\n      <td>0.8</td>\n      <td>274.6</td>\n      <td>275.0</td>\n      <td>8.8</td>\n      <td>66.8</td>\n      <td>1</td>\n      <td>1/1/2019</td>\n      <td>1:00 AM</td>\n      <td>1.2</td>\n      <td>0.4</td>\n      <td>0.2</td>\n      <td>1.0</td>\n      <td>0.7</td>\n      <td>37.6</td>\n    </tr>\n    <tr>\n      <th>2</th>\n      <td>2019-01-01 03:00:00</td>\n      <td>1.2</td>\n      <td>274.9</td>\n      <td>274.8</td>\n      <td>8.4</td>\n      <td>66.0</td>\n      <td>2</td>\n      <td>1/1/2019</td>\n      <td>2:00 AM</td>\n      <td>NaN</td>\n      <td>NaN</td>\n      <td>NaN</td>\n      <td>NaN</td>\n      <td>NaN</td>\n      <td>NaN</td>\n    </tr>\n    <tr>\n      <th>3</th>\n      <td>2019-01-01 04:00:00</td>\n      <td>0.7</td>\n      <td>268.3</td>\n      <td>268.6</td>\n      <td>7.7</td>\n      <td>68.6</td>\n      <td>3</td>\n      <td>1/1/2019</td>\n      <td>3:00 AM</td>\n      <td>0.6</td>\n      <td>0.2</td>\n      <td>0.1</td>\n      <td>0.5</td>\n      <td>0.1</td>\n      <td>38.1</td>\n    </tr>\n    <tr>\n      <th>4</th>\n      <td>2019-01-01 05:00:00</td>\n      <td>1.1</td>\n      <td>263.5</td>\n      <td>263.6</td>\n      <td>10.4</td>\n      <td>69.6</td>\n      <td>4</td>\n      <td>1/1/2019</td>\n      <td>4:00 AM</td>\n      <td>1.7</td>\n      <td>0.1</td>\n      <td>0.1</td>\n      <td>1.6</td>\n      <td>0.0</td>\n      <td>36.7</td>\n    </tr>\n  </tbody>\n</table>\n</div>"
     },
     "execution_count": 50,
     "metadata": {},
     "output_type": "execute_result"
    }
   ],
   "source": [
    "# merge the two datasets based on their datetime indexes\n",
    "aq_weather = weather_data.join(aq_data)\n",
    "\n",
    "# view infromation and dataframe\n",
    "print(aq_weather.info())\n",
    "aq_weather.head()"
   ],
   "metadata": {
    "collapsed": false,
    "pycharm": {
     "name": "#%%\n"
    }
   }
  }
 ],
 "metadata": {
  "kernelspec": {
   "display_name": "Python 3",
   "language": "python",
   "name": "python3"
  },
  "language_info": {
   "codemirror_mode": {
    "name": "ipython",
    "version": 2
   },
   "file_extension": ".py",
   "mimetype": "text/x-python",
   "name": "python",
   "nbconvert_exporter": "python",
   "pygments_lexer": "ipython2",
   "version": "2.7.6"
  }
 },
 "nbformat": 4,
 "nbformat_minor": 0
}