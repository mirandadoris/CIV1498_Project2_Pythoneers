{
 "cells": [
  {
   "cell_type": "code",
   "execution_count": 1,
   "metadata": {
    "collapsed": true
   },
   "outputs": [],
   "source": [
    "# Import 3rd party libraries\n",
    "import numpy as np\n",
    "import pandas as pd\n",
    "import seaborn as sns\n",
    "import matplotlib.pyplot as plt\n",
    "from datetime import datetime\n",
    "import re\n",
    "\n",
    "\n",
    "# Configure Notebook\n",
    "%matplotlib inline\n",
    "plt.style.use('fivethirtyeight')\n",
    "sns.set_context(\"notebook\")\n",
    "import warnings\n",
    "warnings.filterwarnings('ignore')"
   ]
  },
  {
   "cell_type": "code",
   "execution_count": 2,
   "outputs": [
    {
     "name": "stdout",
     "output_type": "stream",
     "text": [
      "                Fire Name Fire Number Hectares Burned Date of Discovery  \\\n",
      "0             Sparks Lake      K21001          95,980         6/28/2021   \n",
      "1            Lytton Creek      K71086          83,671         6/30/2021   \n",
      "2         White Rock Lake      K61884          83,342         7/13/2021   \n",
      "3  5 km West of Flat Lake      C41602          73,862          7/8/2021   \n",
      "4           Tremont Creek      K21849          63,548         7/12/2021   \n",
      "5             McKay Creek      K71030          44,964         6/29/2021   \n",
      "6            Cutoff Creek      G41269          33,418          7/2/2021   \n",
      "7           Octopus Creek      N51800          22,049         7/11/2021   \n",
      "8        Chief Louis Lake      R11562          20,750          7/7/2021   \n",
      "9           July Mountain      K61882          19,661         7/13/2021   \n",
      "\n",
      "          Cause  \n",
      "0         Human  \n",
      "1  Undetermined  \n",
      "2  Undetermined  \n",
      "3       Natural  \n",
      "4  Undetermined  \n",
      "5         Human  \n",
      "6       Natural  \n",
      "7       Natural  \n",
      "8       Natural  \n",
      "9       Natural  \n"
     ]
    }
   ],
   "source": [
    "# Read in the three wildfire data files\n",
    "\n",
    "wf_data_2019 =  pd.read_csv(r\"C:\\Users\\efarr\\PycharmProjects\\CIV1498Project2\\0-Raw_data\\2019_wildfires.csv\")\n",
    "wf_data_2020 =  pd.read_csv(r\"C:\\Users\\efarr\\PycharmProjects\\CIV1498Project2\\0-Raw_data\\2020_wildfires.csv\")\n",
    "wf_data_2021 =  pd.read_csv(r\"C:\\Users\\efarr\\PycharmProjects\\CIV1498Project2\\0-Raw_data\\2021_wildfires.csv\")\n",
    "\n",
    "# View head and tail of weather data file\n",
    "print(wf_data_2021.head(10))"
   ],
   "metadata": {
    "collapsed": false,
    "pycharm": {
     "name": "#%%\n"
    }
   }
  },
  {
   "cell_type": "markdown",
   "source": [
    "Wildfire datasets consist of the fire name, fire number/fire centre, hectares burned, date of discovery, and cause.\n",
    "\n",
    "Next, we'll process these datasets. We need to replace the fire number with the fire centre in which the fire was discovered, change the hectares burned to type float, and change the date of discovery to datetime index."
   ],
   "metadata": {
    "collapsed": false,
    "pycharm": {
     "name": "#%% md\n"
    }
   }
  },
  {
   "cell_type": "code",
   "execution_count": 3,
   "outputs": [],
   "source": [
    "def clean_wf_data(df):\n",
    "    # A function that takes in a raw dataframe of weather data and renames the columns, fixes the data types, turns data column into a DateTimeIndex and returns the dataframe\n",
    "\n",
    "    # Rename column for clarity\n",
    "    df.rename(columns={'Fire Number':'Fire Centre Name'}, inplace=True)\n",
    "\n",
    "    # Remove comma from string in hectares burned\n",
    "    df['Hectares Burned'] = df['Hectares Burned'].astype(str)\n",
    "    df['Hectares Burned'] = df['Hectares Burned'].str.replace(',','').astype(float)\n",
    "\n",
    "    # Define datatypes\n",
    "    df['Date of Discovery'] = df['Date of Discovery'].astype(str)\n",
    "    df['Fire Centre Name'] = df['Fire Centre Name'].astype(str)\n",
    "\n",
    "    # Turn date columns into a DateTimeIndex\n",
    "    format = '%m/%d/%Y'\n",
    "    df['Datetime'] = pd.to_datetime(df['Date of Discovery'], format=format)\n",
    "    df = df.set_index(pd.DatetimeIndex(df['Datetime']))\n",
    "    df.drop(['Date of Discovery', 'Datetime'], axis=1, inplace=True)\n",
    "\n",
    "    return df"
   ],
   "metadata": {
    "collapsed": false,
    "pycharm": {
     "name": "#%%\n"
    }
   }
  },
  {
   "cell_type": "code",
   "execution_count": 5,
   "outputs": [],
   "source": [
    "def clean_fire_codes(df):\n",
    "    # A function that renames fire codes to fire centre name. Had to split it from other defintion because it can't be used on 2019 data\n",
    "    # Relabel fire codes to say fire centre name instead for relevant area\n",
    "    df.loc[df['Fire Centre Name'].str.startswith(\"G\"), 'Fire Centre Name'] = \"Prince George\"\n",
    "    df.loc[df['Fire Centre Name'].str.startswith(\"R\"), 'Fire Centre Name'] = \"Northwest\"\n",
    "    df.loc[df['Fire Centre Name'].str.startswith(\"C\"), 'Fire Centre Name'] = \"Cariboo\"\n",
    "    df.loc[df['Fire Centre Name'].str.startswith(\"V\"), 'Fire Centre Name'] = \"Coastal\"\n",
    "    df.loc[df['Fire Centre Name'].str.startswith(\"K\"), 'Fire Centre Name'] = \"Kamloops\"\n",
    "    df.loc[df['Fire Centre Name'].str.startswith(\"N\"), 'Fire Centre Name'] = \"Southeast\"\n",
    "\n",
    "    return df"
   ],
   "metadata": {
    "collapsed": false,
    "pycharm": {
     "name": "#%%\n"
    }
   }
  },
  {
   "cell_type": "code",
   "execution_count": 6,
   "outputs": [
    {
     "data": {
      "text/plain": "                         Fire Name Fire Centre Name  Hectares Burned  \\\nDatetime                                                               \n2021-06-28             Sparks Lake         Kamloops          95980.0   \n2021-06-30            Lytton Creek         Kamloops          83671.0   \n2021-07-13         White Rock Lake         Kamloops          83342.0   \n2021-07-08  5 km West of Flat Lake          Cariboo          73862.0   \n2021-07-12           Tremont Creek         Kamloops          63548.0   \n\n                   Cause  \nDatetime                  \n2021-06-28         Human  \n2021-06-30  Undetermined  \n2021-07-13  Undetermined  \n2021-07-08       Natural  \n2021-07-12  Undetermined  ",
      "text/html": "<div>\n<style scoped>\n    .dataframe tbody tr th:only-of-type {\n        vertical-align: middle;\n    }\n\n    .dataframe tbody tr th {\n        vertical-align: top;\n    }\n\n    .dataframe thead th {\n        text-align: right;\n    }\n</style>\n<table border=\"1\" class=\"dataframe\">\n  <thead>\n    <tr style=\"text-align: right;\">\n      <th></th>\n      <th>Fire Name</th>\n      <th>Fire Centre Name</th>\n      <th>Hectares Burned</th>\n      <th>Cause</th>\n    </tr>\n    <tr>\n      <th>Datetime</th>\n      <th></th>\n      <th></th>\n      <th></th>\n      <th></th>\n    </tr>\n  </thead>\n  <tbody>\n    <tr>\n      <th>2021-06-28</th>\n      <td>Sparks Lake</td>\n      <td>Kamloops</td>\n      <td>95980.0</td>\n      <td>Human</td>\n    </tr>\n    <tr>\n      <th>2021-06-30</th>\n      <td>Lytton Creek</td>\n      <td>Kamloops</td>\n      <td>83671.0</td>\n      <td>Undetermined</td>\n    </tr>\n    <tr>\n      <th>2021-07-13</th>\n      <td>White Rock Lake</td>\n      <td>Kamloops</td>\n      <td>83342.0</td>\n      <td>Undetermined</td>\n    </tr>\n    <tr>\n      <th>2021-07-08</th>\n      <td>5 km West of Flat Lake</td>\n      <td>Cariboo</td>\n      <td>73862.0</td>\n      <td>Natural</td>\n    </tr>\n    <tr>\n      <th>2021-07-12</th>\n      <td>Tremont Creek</td>\n      <td>Kamloops</td>\n      <td>63548.0</td>\n      <td>Undetermined</td>\n    </tr>\n  </tbody>\n</table>\n</div>"
     },
     "execution_count": 6,
     "metadata": {},
     "output_type": "execute_result"
    }
   ],
   "source": [
    "# Run weather dataframes through function to clean\n",
    "wf_data_2019 = clean_wf_data(wf_data_2019)\n",
    "wf_data_2020 = clean_wf_data(wf_data_2020)\n",
    "wf_data_2021 = clean_wf_data(wf_data_2021)\n",
    "\n",
    "# Run 2020 and 2021 data through fire code renaming\n",
    "wf_data_2020 = clean_fire_codes(wf_data_2020)\n",
    "wf_data_2021 = clean_fire_codes(wf_data_2021)\n",
    "\n",
    "# View data frame\n",
    "wf_data_2021.head()"
   ],
   "metadata": {
    "collapsed": false,
    "pycharm": {
     "name": "#%%\n"
    }
   }
  },
  {
   "cell_type": "code",
   "execution_count": 7,
   "outputs": [
    {
     "data": {
      "text/plain": "                           Fire Name Fire Centre Name  Hectares Burned  \\\nDatetime                                                                 \n2019-05-20              Fontas River    Prince George            650.0   \n2019-05-11                     Lejac    Prince George            236.0   \n2019-05-11  Coffee Creek Subdivision    Prince George              9.0   \n2019-05-13             Richter Creek         Kamloops            507.0   \n2019-05-27         Black Angus Creek        Northwest           1935.0   \n2019-07-04           Linklater Creek        Southeast             50.0   \n2019-07-06     Southwest Tagish Lake        Northwest           1197.0   \n2019-07-24          Richter Mountain         Kamloops            403.0   \n2019-08-04               Eagle Bluff         Kamloops           2532.0   \n2020-04-14                Magee Road          Coastal            203.0   \n\n              Cause  \nDatetime             \n2019-05-20  Natural  \n2019-05-11    Human  \n2019-05-11    human  \n2019-05-13  unknown  \n2019-05-27  Natural  \n2019-07-04    Human  \n2019-07-06  Natural  \n2019-07-24  Natural  \n2019-08-04    Human  \n2020-04-14    Human  ",
      "text/html": "<div>\n<style scoped>\n    .dataframe tbody tr th:only-of-type {\n        vertical-align: middle;\n    }\n\n    .dataframe tbody tr th {\n        vertical-align: top;\n    }\n\n    .dataframe thead th {\n        text-align: right;\n    }\n</style>\n<table border=\"1\" class=\"dataframe\">\n  <thead>\n    <tr style=\"text-align: right;\">\n      <th></th>\n      <th>Fire Name</th>\n      <th>Fire Centre Name</th>\n      <th>Hectares Burned</th>\n      <th>Cause</th>\n    </tr>\n    <tr>\n      <th>Datetime</th>\n      <th></th>\n      <th></th>\n      <th></th>\n      <th></th>\n    </tr>\n  </thead>\n  <tbody>\n    <tr>\n      <th>2019-05-20</th>\n      <td>Fontas River</td>\n      <td>Prince George</td>\n      <td>650.0</td>\n      <td>Natural</td>\n    </tr>\n    <tr>\n      <th>2019-05-11</th>\n      <td>Lejac</td>\n      <td>Prince George</td>\n      <td>236.0</td>\n      <td>Human</td>\n    </tr>\n    <tr>\n      <th>2019-05-11</th>\n      <td>Coffee Creek Subdivision</td>\n      <td>Prince George</td>\n      <td>9.0</td>\n      <td>human</td>\n    </tr>\n    <tr>\n      <th>2019-05-13</th>\n      <td>Richter Creek</td>\n      <td>Kamloops</td>\n      <td>507.0</td>\n      <td>unknown</td>\n    </tr>\n    <tr>\n      <th>2019-05-27</th>\n      <td>Black Angus Creek</td>\n      <td>Northwest</td>\n      <td>1935.0</td>\n      <td>Natural</td>\n    </tr>\n    <tr>\n      <th>2019-07-04</th>\n      <td>Linklater Creek</td>\n      <td>Southeast</td>\n      <td>50.0</td>\n      <td>Human</td>\n    </tr>\n    <tr>\n      <th>2019-07-06</th>\n      <td>Southwest Tagish Lake</td>\n      <td>Northwest</td>\n      <td>1197.0</td>\n      <td>Natural</td>\n    </tr>\n    <tr>\n      <th>2019-07-24</th>\n      <td>Richter Mountain</td>\n      <td>Kamloops</td>\n      <td>403.0</td>\n      <td>Natural</td>\n    </tr>\n    <tr>\n      <th>2019-08-04</th>\n      <td>Eagle Bluff</td>\n      <td>Kamloops</td>\n      <td>2532.0</td>\n      <td>Human</td>\n    </tr>\n    <tr>\n      <th>2020-04-14</th>\n      <td>Magee Road</td>\n      <td>Coastal</td>\n      <td>203.0</td>\n      <td>Human</td>\n    </tr>\n  </tbody>\n</table>\n</div>"
     },
     "execution_count": 7,
     "metadata": {},
     "output_type": "execute_result"
    }
   ],
   "source": [
    "# Combine all yearly dataframes into one dataframe for the entire period\n",
    "wf_data = pd.concat([wf_data_2019, wf_data_2020, wf_data_2021], axis=0)\n",
    "\n",
    "# view dataframe\n",
    "wf_data.head(10)"
   ],
   "metadata": {
    "collapsed": false,
    "pycharm": {
     "name": "#%%\n"
    }
   }
  },
  {
   "cell_type": "code",
   "execution_count": 8,
   "outputs": [],
   "source": [
    "wf_data.to_csv(\"wildfire_data.csv\")"
   ],
   "metadata": {
    "collapsed": false,
    "pycharm": {
     "name": "#%%\n"
    }
   }
  }
 ],
 "metadata": {
  "kernelspec": {
   "display_name": "Python 3",
   "language": "python",
   "name": "python3"
  },
  "language_info": {
   "codemirror_mode": {
    "name": "ipython",
    "version": 2
   },
   "file_extension": ".py",
   "mimetype": "text/x-python",
   "name": "python",
   "nbconvert_exporter": "python",
   "pygments_lexer": "ipython2",
   "version": "2.7.6"
  }
 },
 "nbformat": 4,
 "nbformat_minor": 0
}