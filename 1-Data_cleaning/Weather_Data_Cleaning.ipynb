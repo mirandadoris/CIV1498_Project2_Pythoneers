{
 "cells": [
  {
   "cell_type": "code",
   "execution_count": 1,
   "metadata": {
    "collapsed": true
   },
   "outputs": [],
   "source": [
    "# Import 3rd party libraries\n",
    "import numpy as np\n",
    "import pandas as pd\n",
    "import seaborn as sns\n",
    "import matplotlib.pyplot as plt\n",
    "from datetime import datetime\n",
    "import re\n",
    "\n",
    "# Configure Notebook\n",
    "%matplotlib inline\n",
    "plt.style.use('fivethirtyeight')\n",
    "sns.set_context(\"notebook\")\n",
    "import warnings\n",
    "warnings.filterwarnings('ignore')"
   ]
  },
  {
   "cell_type": "raw",
   "source": [
    "The analysis will include weather data from one monitoring station for three consecutive years (2019-2021).\n",
    "\n",
    "Three files (one for each year) were downloaded from https://envistaweb.env.gov.bc.ca/ for the Farmington Community Hall station. These files contain data for the hourly Temperature (C), Windspeed (m/s), Wind Direction (degrees) and Relative Humidty (%)."
   ],
   "metadata": {
    "collapsed": false,
    "pycharm": {
     "name": "#%% raw\n"
    }
   }
  },
  {
   "cell_type": "code",
   "execution_count": 30,
   "outputs": [
    {
     "data": {
      "text/plain": "          Date Time        TEMP_MEAN        WDIR_VECT        WDIR_UVEC  \\\n8785   Minimum  NaN            -39.3                0                0   \n8786  Min Date  NaN    2/7/2021 4:00  5/18/2021 13:00  10/5/2021 23:00   \n8787   Maximum  NaN             37.9              360              360   \n8788  Max Date  NaN  6/29/2021 17:00  4/17/2021 19:00   7/4/2021 16:00   \n8789       Avg  NaN              2.6            233.7            234.1   \n8790       Num  NaN             8778             8777             8777   \n8791   Data[%]  NaN              100              100              100   \n8792       STD  NaN             13.3             85.4             86.7   \n\n           WSPD_SCLR         HUMIDITY  \n8785               0             10.9  \n8786  9/18/2021 5:00  5/21/2021 17:00  \n8787            15.7              100  \n8788  2/21/2021 9:00    8/3/2021 3:00  \n8789             2.9             64.6  \n8790            8777             8778  \n8791             100              100  \n8792             2.6               19  ",
      "text/html": "<div>\n<style scoped>\n    .dataframe tbody tr th:only-of-type {\n        vertical-align: middle;\n    }\n\n    .dataframe tbody tr th {\n        vertical-align: top;\n    }\n\n    .dataframe thead th {\n        text-align: right;\n    }\n</style>\n<table border=\"1\" class=\"dataframe\">\n  <thead>\n    <tr style=\"text-align: right;\">\n      <th></th>\n      <th>Date</th>\n      <th>Time</th>\n      <th>TEMP_MEAN</th>\n      <th>WDIR_VECT</th>\n      <th>WDIR_UVEC</th>\n      <th>WSPD_SCLR</th>\n      <th>HUMIDITY</th>\n    </tr>\n  </thead>\n  <tbody>\n    <tr>\n      <th>8785</th>\n      <td>Minimum</td>\n      <td>NaN</td>\n      <td>-39.3</td>\n      <td>0</td>\n      <td>0</td>\n      <td>0</td>\n      <td>10.9</td>\n    </tr>\n    <tr>\n      <th>8786</th>\n      <td>Min Date</td>\n      <td>NaN</td>\n      <td>2/7/2021 4:00</td>\n      <td>5/18/2021 13:00</td>\n      <td>10/5/2021 23:00</td>\n      <td>9/18/2021 5:00</td>\n      <td>5/21/2021 17:00</td>\n    </tr>\n    <tr>\n      <th>8787</th>\n      <td>Maximum</td>\n      <td>NaN</td>\n      <td>37.9</td>\n      <td>360</td>\n      <td>360</td>\n      <td>15.7</td>\n      <td>100</td>\n    </tr>\n    <tr>\n      <th>8788</th>\n      <td>Max Date</td>\n      <td>NaN</td>\n      <td>6/29/2021 17:00</td>\n      <td>4/17/2021 19:00</td>\n      <td>7/4/2021 16:00</td>\n      <td>2/21/2021 9:00</td>\n      <td>8/3/2021 3:00</td>\n    </tr>\n    <tr>\n      <th>8789</th>\n      <td>Avg</td>\n      <td>NaN</td>\n      <td>2.6</td>\n      <td>233.7</td>\n      <td>234.1</td>\n      <td>2.9</td>\n      <td>64.6</td>\n    </tr>\n    <tr>\n      <th>8790</th>\n      <td>Num</td>\n      <td>NaN</td>\n      <td>8778</td>\n      <td>8777</td>\n      <td>8777</td>\n      <td>8777</td>\n      <td>8778</td>\n    </tr>\n    <tr>\n      <th>8791</th>\n      <td>Data[%]</td>\n      <td>NaN</td>\n      <td>100</td>\n      <td>100</td>\n      <td>100</td>\n      <td>100</td>\n      <td>100</td>\n    </tr>\n    <tr>\n      <th>8792</th>\n      <td>STD</td>\n      <td>NaN</td>\n      <td>13.3</td>\n      <td>85.4</td>\n      <td>86.7</td>\n      <td>2.6</td>\n      <td>19</td>\n    </tr>\n  </tbody>\n</table>\n</div>"
     },
     "execution_count": 30,
     "metadata": {},
     "output_type": "execute_result"
    }
   ],
   "source": [
    "# Read in the three weather data files from 1-Raw_data\n",
    "# Note that the second row contains the header names in the csv files\n",
    "\n",
    "weather_data_2020 =  pd.read_csv(r\"C:\\Users\\user\\PycharmProjects\\CIV1498Project2\\0-Raw_data\\weather_data_2019.csv\", header=[1])\n",
    "weather_data_2020 =  pd.read_csv(r\"C:\\Users\\user\\PycharmProjects\\CIV1498Project2\\0-Raw_data\\weather_data_2020.csv\", header=[1])\n",
    "weather_data_2021 =  pd.read_csv(r\"C:\\Users\\user\\PycharmProjects\\CIV1498Project2\\0-Raw_data\\weather_data_2021.csv\", header=[1])\n",
    "\n",
    "weather_data_2021.tail(8)"
   ],
   "metadata": {
    "collapsed": false,
    "pycharm": {
     "name": "#%%\n"
    }
   }
  },
  {
   "cell_type": "markdown",
   "source": [],
   "metadata": {
    "collapsed": false
   }
  },
  {
   "cell_type": "code",
   "execution_count": null,
   "outputs": [],
   "source": [],
   "metadata": {
    "collapsed": false,
    "pycharm": {
     "name": "#%%\n"
    }
   }
  }
 ],
 "metadata": {
  "kernelspec": {
   "display_name": "Python 3",
   "language": "python",
   "name": "python3"
  },
  "language_info": {
   "codemirror_mode": {
    "name": "ipython",
    "version": 2
   },
   "file_extension": ".py",
   "mimetype": "text/x-python",
   "name": "python",
   "nbconvert_exporter": "python",
   "pygments_lexer": "ipython2",
   "version": "2.7.6"
  }
 },
 "nbformat": 4,
 "nbformat_minor": 0
}