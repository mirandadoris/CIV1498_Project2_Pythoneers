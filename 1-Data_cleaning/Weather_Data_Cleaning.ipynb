{
 "cells": [
  {
   "cell_type": "code",
   "execution_count": 17,
   "metadata": {
    "collapsed": true
   },
   "outputs": [],
   "source": [
    "# Import 3rd party libraries\n",
    "import numpy as np\n",
    "import pandas as pd\n",
    "import seaborn as sns\n",
    "import matplotlib.pyplot as plt\n",
    "from datetime import datetime\n",
    "import re\n",
    "\n",
    "# Configure Notebook\n",
    "%matplotlib inline\n",
    "plt.style.use('fivethirtyeight')\n",
    "sns.set_context(\"notebook\")\n",
    "import warnings\n",
    "warnings.filterwarnings('ignore')"
   ]
  },
  {
   "cell_type": "raw",
   "source": [
    "The analysis will include weather data from one monitoring station for three consecutive years (2019-2021).\n",
    "\n",
    "Three files (one for each year) were downloaded from https://envistaweb.env.gov.bc.ca/ for the Farmington Community Hall station. These files contain data for the hourly Temperature (C), Windspeed (m/s), Wind Direction (degrees) and Relative Humidty (%)."
   ],
   "metadata": {
    "collapsed": false,
    "pycharm": {
     "name": "#%% raw\n"
    }
   }
  },
  {
   "cell_type": "code",
   "execution_count": 18,
   "outputs": [
    {
     "name": "stdout",
     "output_type": "stream",
     "text": [
      "         Date      Time TEMP_MEAN WDIR_VECT WDIR_UVEC WSPD_SCLR HUMIDITY\n",
      "0         NaN       NaN        °C      Deg.      Deg.       m/s     % RH\n",
      "1  12/31/2020  24:00 AM      -5.3     290.3     304.5       1.3     77.5\n",
      "2    1/1/2021   1:00 AM        -7     302.1     317.8       0.9     83.7\n",
      "3    1/1/2021   2:00 AM      -8.8     286.8     301.3       0.6     87.7\n",
      "4    1/1/2021   3:00 AM      -9.2      57.9      15.7       0.5     89.1\n",
      "5    1/1/2021   4:00 AM      -8.3       283     285.5       0.9     87.6\n",
      "6    1/1/2021   5:00 AM      -7.4     107.4     104.1         1     87.5\n",
      "7    1/1/2021   6:00 AM      -6.9      82.2      79.4       1.1     89.9\n",
      "8    1/1/2021   7:00 AM      -6.1      76.2      75.5       1.4     91.9\n",
      "9    1/1/2021   8:00 AM      -5.9        72      72.5       1.1     92.2\n",
      "          Date      Time        TEMP_MEAN        WDIR_VECT        WDIR_UVEC  \\\n",
      "8783  1/1/2022  10:00 PM            -18.5            344.1            349.6   \n",
      "8784  1/1/2022  11:00 PM            -21.5            348.7              349   \n",
      "8785   Minimum       NaN            -39.3                0                0   \n",
      "8786  Min Date       NaN    2/7/2021 4:00  5/18/2021 13:00  10/5/2021 23:00   \n",
      "8787   Maximum       NaN             37.9              360              360   \n",
      "8788  Max Date       NaN  6/29/2021 17:00  4/17/2021 19:00   7/4/2021 16:00   \n",
      "8789       Avg       NaN              2.6            233.7            234.1   \n",
      "8790       Num       NaN             8778             8777             8777   \n",
      "8791   Data[%]       NaN              100              100              100   \n",
      "8792       STD       NaN             13.3             85.4             86.7   \n",
      "\n",
      "           WSPD_SCLR         HUMIDITY  \n",
      "8783             1.9             80.6  \n",
      "8784             2.5             76.9  \n",
      "8785               0             10.9  \n",
      "8786  9/18/2021 5:00  5/21/2021 17:00  \n",
      "8787            15.7              100  \n",
      "8788  2/21/2021 9:00    8/3/2021 3:00  \n",
      "8789             2.9             64.6  \n",
      "8790            8777             8778  \n",
      "8791             100              100  \n",
      "8792             2.6               19  \n"
     ]
    }
   ],
   "source": [
    "# Read in the three weather data files from 1-Raw_data\n",
    "# Note that the second row contains the header names in the csv files\n",
    "\n",
    "weather_data_2019 =  pd.read_csv(r\"C:\\Users\\user\\PycharmProjects\\CIV1498Project2\\0-Raw_data\\weather_data_2019.csv\", header=[1])\n",
    "weather_data_2020 =  pd.read_csv(r\"C:\\Users\\user\\PycharmProjects\\CIV1498Project2\\0-Raw_data\\weather_data_2020.csv\", header=[1])\n",
    "weather_data_2021 =  pd.read_csv(r\"C:\\Users\\user\\PycharmProjects\\CIV1498Project2\\0-Raw_data\\weather_data_2021.csv\", header=[1])\n",
    "\n",
    "# View head and tail of weather data file\n",
    "print(weather_data_2021.head(10))\n",
    "print(weather_data_2021.tail(10))"
   ],
   "metadata": {
    "collapsed": false,
    "pycharm": {
     "name": "#%%\n"
    }
   }
  },
  {
   "cell_type": "markdown",
   "source": [],
   "metadata": {
    "collapsed": false
   }
  },
  {
   "cell_type": "code",
   "execution_count": 19,
   "outputs": [],
   "source": [
    "\n",
    "\n",
    "def clean_weather_data(df):\n",
    "    # explain what function does ***\n",
    "\n",
    "    # Rename columns to include unit of measurement\n",
    "    df.rename(columns={'TEMP_MEAN':'TEMP_MEAN_(C)', 'WDIR_VECT':'WDIR_VECT_(DEG)', 'WDIR_UVEC':'WDIR_UVEC_(DEG)', 'WSPD_SCLR':'WSPD_SCLR(M/S)', 'HUMIDITY':'HUMIDITY_(%)'}, inplace=True)\n",
    "\n",
    "    # Drop the first row and the last eight statistical summary rows\n",
    "    df = df[1:-8]\n",
    "\n",
    "    # Define datatypes\n",
    "    df['Date'] = df['Date'].astype(str)\n",
    "    df['Time'] = df['Time'].astype(str)\n",
    "    df[['TEMP_MEAN_(C)', 'WDIR_VECT_(DEG)', 'WDIR_UVEC_(DEG)', 'WSPD_SCLR(M/S)',\n",
    "        'HUMIDITY_(%)']] = df[['TEMP_MEAN_(C)', 'WDIR_VECT_(DEG)', 'WDIR_UVEC_(DEG)', 'WSPD_SCLR(M/S)', 'HUMIDITY_(%)']].astype(float)\n",
    "\n",
    "    # Turn data and time columns into a DateTimeIndex\n",
    "    format = '%m/%d/%Y %I:%M %p'\n",
    "    df['Date'] = df[['Date', 'Time']].agg(' '.join, axis =1)\n",
    "    df['Date'] = df['Date'].str.replace('24:00', '12:00')\n",
    "    df['Datetime'] = pd.to_datetime(df['Date'].astype(\"string\"), format=format)\n",
    "    df = df.set_index(pd.DatetimeIndex(df['Datetime']))\n",
    "    df.drop(['Date', 'Time', 'Datetime'], axis=1, inplace=True)\n",
    "\n",
    "    return df"
   ],
   "metadata": {
    "collapsed": false,
    "pycharm": {
     "name": "#%%\n"
    }
   }
  },
  {
   "cell_type": "code",
   "execution_count": 20,
   "outputs": [
    {
     "data": {
      "text/plain": "                     TEMP_MEAN_(C)  WDIR_VECT_(DEG)  WDIR_UVEC_(DEG)  \\\nDatetime                                                               \n2020-12-31 00:00:00           -5.3            290.3            304.5   \n2021-01-01 01:00:00           -7.0            302.1            317.8   \n2021-01-01 02:00:00           -8.8            286.8            301.3   \n2021-01-01 03:00:00           -9.2             57.9             15.7   \n2021-01-01 04:00:00           -8.3            283.0            285.5   \n\n                     WSPD_SCLR(M/S)  HUMIDITY_(%)  \nDatetime                                           \n2020-12-31 00:00:00             1.3          77.5  \n2021-01-01 01:00:00             0.9          83.7  \n2021-01-01 02:00:00             0.6          87.7  \n2021-01-01 03:00:00             0.5          89.1  \n2021-01-01 04:00:00             0.9          87.6  ",
      "text/html": "<div>\n<style scoped>\n    .dataframe tbody tr th:only-of-type {\n        vertical-align: middle;\n    }\n\n    .dataframe tbody tr th {\n        vertical-align: top;\n    }\n\n    .dataframe thead th {\n        text-align: right;\n    }\n</style>\n<table border=\"1\" class=\"dataframe\">\n  <thead>\n    <tr style=\"text-align: right;\">\n      <th></th>\n      <th>TEMP_MEAN_(C)</th>\n      <th>WDIR_VECT_(DEG)</th>\n      <th>WDIR_UVEC_(DEG)</th>\n      <th>WSPD_SCLR(M/S)</th>\n      <th>HUMIDITY_(%)</th>\n    </tr>\n    <tr>\n      <th>Datetime</th>\n      <th></th>\n      <th></th>\n      <th></th>\n      <th></th>\n      <th></th>\n    </tr>\n  </thead>\n  <tbody>\n    <tr>\n      <th>2020-12-31 00:00:00</th>\n      <td>-5.3</td>\n      <td>290.3</td>\n      <td>304.5</td>\n      <td>1.3</td>\n      <td>77.5</td>\n    </tr>\n    <tr>\n      <th>2021-01-01 01:00:00</th>\n      <td>-7.0</td>\n      <td>302.1</td>\n      <td>317.8</td>\n      <td>0.9</td>\n      <td>83.7</td>\n    </tr>\n    <tr>\n      <th>2021-01-01 02:00:00</th>\n      <td>-8.8</td>\n      <td>286.8</td>\n      <td>301.3</td>\n      <td>0.6</td>\n      <td>87.7</td>\n    </tr>\n    <tr>\n      <th>2021-01-01 03:00:00</th>\n      <td>-9.2</td>\n      <td>57.9</td>\n      <td>15.7</td>\n      <td>0.5</td>\n      <td>89.1</td>\n    </tr>\n    <tr>\n      <th>2021-01-01 04:00:00</th>\n      <td>-8.3</td>\n      <td>283.0</td>\n      <td>285.5</td>\n      <td>0.9</td>\n      <td>87.6</td>\n    </tr>\n  </tbody>\n</table>\n</div>"
     },
     "execution_count": 20,
     "metadata": {},
     "output_type": "execute_result"
    }
   ],
   "source": [
    "# Run weather dataframes through function to clean\n",
    "weather_data_2019 = clean_weather_data(weather_data_2019)\n",
    "weather_data_2020 = clean_weather_data(weather_data_2020)\n",
    "weather_data_2021 = clean_weather_data(weather_data_2021)\n",
    "\n",
    "# View data frame\n",
    "weather_data_2021.head()"
   ],
   "metadata": {
    "collapsed": false,
    "pycharm": {
     "name": "#%%\n"
    }
   }
  },
  {
   "cell_type": "code",
   "execution_count": 21,
   "outputs": [
    {
     "data": {
      "text/plain": "                     TEMP_MEAN_(C)  WDIR_VECT_(DEG)  WDIR_UVEC_(DEG)  \\\nDatetime                                                               \n2018-12-31 00:00:00            0.5            267.5            267.6   \n2019-01-01 01:00:00            0.8            272.7            273.2   \n2019-01-01 02:00:00            0.8            274.6            275.0   \n2019-01-01 03:00:00            1.2            274.9            274.8   \n2019-01-01 04:00:00            0.7            268.3            268.6   \n\n                     WSPD_SCLR(M/S)  HUMIDITY_(%)  \nDatetime                                           \n2018-12-31 00:00:00            13.3          70.7  \n2019-01-01 01:00:00            10.0          67.1  \n2019-01-01 02:00:00             8.8          66.8  \n2019-01-01 03:00:00             8.4          66.0  \n2019-01-01 04:00:00             7.7          68.6  ",
      "text/html": "<div>\n<style scoped>\n    .dataframe tbody tr th:only-of-type {\n        vertical-align: middle;\n    }\n\n    .dataframe tbody tr th {\n        vertical-align: top;\n    }\n\n    .dataframe thead th {\n        text-align: right;\n    }\n</style>\n<table border=\"1\" class=\"dataframe\">\n  <thead>\n    <tr style=\"text-align: right;\">\n      <th></th>\n      <th>TEMP_MEAN_(C)</th>\n      <th>WDIR_VECT_(DEG)</th>\n      <th>WDIR_UVEC_(DEG)</th>\n      <th>WSPD_SCLR(M/S)</th>\n      <th>HUMIDITY_(%)</th>\n    </tr>\n    <tr>\n      <th>Datetime</th>\n      <th></th>\n      <th></th>\n      <th></th>\n      <th></th>\n      <th></th>\n    </tr>\n  </thead>\n  <tbody>\n    <tr>\n      <th>2018-12-31 00:00:00</th>\n      <td>0.5</td>\n      <td>267.5</td>\n      <td>267.6</td>\n      <td>13.3</td>\n      <td>70.7</td>\n    </tr>\n    <tr>\n      <th>2019-01-01 01:00:00</th>\n      <td>0.8</td>\n      <td>272.7</td>\n      <td>273.2</td>\n      <td>10.0</td>\n      <td>67.1</td>\n    </tr>\n    <tr>\n      <th>2019-01-01 02:00:00</th>\n      <td>0.8</td>\n      <td>274.6</td>\n      <td>275.0</td>\n      <td>8.8</td>\n      <td>66.8</td>\n    </tr>\n    <tr>\n      <th>2019-01-01 03:00:00</th>\n      <td>1.2</td>\n      <td>274.9</td>\n      <td>274.8</td>\n      <td>8.4</td>\n      <td>66.0</td>\n    </tr>\n    <tr>\n      <th>2019-01-01 04:00:00</th>\n      <td>0.7</td>\n      <td>268.3</td>\n      <td>268.6</td>\n      <td>7.7</td>\n      <td>68.6</td>\n    </tr>\n  </tbody>\n</table>\n</div>"
     },
     "execution_count": 21,
     "metadata": {},
     "output_type": "execute_result"
    }
   ],
   "source": [
    "# Combine all dataframe into one dataframe\n",
    "weather_data = pd.concat([weather_data_2019, weather_data_2020, weather_data_2021], axis=0)\n",
    "\n",
    "# view dataframe\n",
    "weather_data.head()"
   ],
   "metadata": {
    "collapsed": false,
    "pycharm": {
     "name": "#%%\n"
    }
   }
  },
  {
   "cell_type": "code",
   "execution_count": 24,
   "outputs": [
    {
     "name": "stdout",
     "output_type": "stream",
     "text": [
      "26376\n"
     ]
    },
    {
     "data": {
      "text/plain": "TEMP_MEAN_(C)      59\nWDIR_VECT_(DEG)    84\nWDIR_UVEC_(DEG)    84\nWSPD_SCLR(M/S)     84\nHUMIDITY_(%)       55\ndtype: int64"
     },
     "execution_count": 24,
     "metadata": {},
     "output_type": "execute_result"
    }
   ],
   "source": [
    "# Assess the dataframe for any missing values\n",
    "print(len(weather_data))\n",
    "weather_data.isnull().sum()\n"
   ],
   "metadata": {
    "collapsed": false,
    "pycharm": {
     "name": "#%%\n"
    }
   }
  }
 ],
 "metadata": {
  "kernelspec": {
   "display_name": "Python 3",
   "language": "python",
   "name": "python3"
  },
  "language_info": {
   "codemirror_mode": {
    "name": "ipython",
    "version": 2
   },
   "file_extension": ".py",
   "mimetype": "text/x-python",
   "name": "python",
   "nbconvert_exporter": "python",
   "pygments_lexer": "ipython2",
   "version": "2.7.6"
  }
 },
 "nbformat": 4,
 "nbformat_minor": 0
}