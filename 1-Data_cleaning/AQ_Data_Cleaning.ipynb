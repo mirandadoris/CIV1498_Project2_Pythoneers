{
 "cells": [
  {
   "cell_type": "markdown",
   "metadata": {
    "collapsed": true,
    "pycharm": {
     "name": "#%% md\n"
    }
   },
   "source": []
  },
  {
   "cell_type": "code",
   "execution_count": 1,
   "outputs": [],
   "source": [
    "# Import 3rd party libraries\n",
    "import numpy as np\n",
    "import pandas as pd\n",
    "import seaborn as sns\n",
    "import matplotlib.pyplot as plt\n",
    "from datetime import datetime\n",
    "import re\n",
    "\n",
    "# Configure Notebook\n",
    "%matplotlib inline\n",
    "plt.style.use('fivethirtyeight')\n",
    "sns.set_context(\"notebook\")\n",
    "import warnings\n",
    "warnings.filterwarnings('ignore')"
   ],
   "metadata": {
    "collapsed": false,
    "pycharm": {
     "name": "#%%\n"
    }
   }
  },
  {
   "cell_type": "code",
   "execution_count": 2,
   "outputs": [
    {
     "data": {
      "text/plain": "          Date Time             NOx             SO2              NO  \\\n8764  Max Date  NaN  6/16/2019 1:00  2/4/2019 16:00  6/16/2019 1:00   \n8765       Avg  NaN             3.7             0.3             0.8   \n8766       Num  NaN            8366            8248            8366   \n8767   Data[%]  NaN              96              94              96   \n8768       STD  NaN             4.6             0.8             2.3   \n\n                 NO2               TRS               O3  \n8764  1/8/2019 18:00  10/20/2019 22:00  3/21/2019 15:00  \n8765             2.9               0.2             25.2  \n8766            8366              8301             8368  \n8767              96                95               96  \n8768             3.3               0.1             11.7  ",
      "text/html": "<div>\n<style scoped>\n    .dataframe tbody tr th:only-of-type {\n        vertical-align: middle;\n    }\n\n    .dataframe tbody tr th {\n        vertical-align: top;\n    }\n\n    .dataframe thead th {\n        text-align: right;\n    }\n</style>\n<table border=\"1\" class=\"dataframe\">\n  <thead>\n    <tr style=\"text-align: right;\">\n      <th></th>\n      <th>Date</th>\n      <th>Time</th>\n      <th>NOx</th>\n      <th>SO2</th>\n      <th>NO</th>\n      <th>NO2</th>\n      <th>TRS</th>\n      <th>O3</th>\n    </tr>\n  </thead>\n  <tbody>\n    <tr>\n      <th>8764</th>\n      <td>Max Date</td>\n      <td>NaN</td>\n      <td>6/16/2019 1:00</td>\n      <td>2/4/2019 16:00</td>\n      <td>6/16/2019 1:00</td>\n      <td>1/8/2019 18:00</td>\n      <td>10/20/2019 22:00</td>\n      <td>3/21/2019 15:00</td>\n    </tr>\n    <tr>\n      <th>8765</th>\n      <td>Avg</td>\n      <td>NaN</td>\n      <td>3.7</td>\n      <td>0.3</td>\n      <td>0.8</td>\n      <td>2.9</td>\n      <td>0.2</td>\n      <td>25.2</td>\n    </tr>\n    <tr>\n      <th>8766</th>\n      <td>Num</td>\n      <td>NaN</td>\n      <td>8366</td>\n      <td>8248</td>\n      <td>8366</td>\n      <td>8366</td>\n      <td>8301</td>\n      <td>8368</td>\n    </tr>\n    <tr>\n      <th>8767</th>\n      <td>Data[%]</td>\n      <td>NaN</td>\n      <td>96</td>\n      <td>94</td>\n      <td>96</td>\n      <td>96</td>\n      <td>95</td>\n      <td>96</td>\n    </tr>\n    <tr>\n      <th>8768</th>\n      <td>STD</td>\n      <td>NaN</td>\n      <td>4.6</td>\n      <td>0.8</td>\n      <td>2.3</td>\n      <td>3.3</td>\n      <td>0.1</td>\n      <td>11.7</td>\n    </tr>\n  </tbody>\n</table>\n</div>"
     },
     "execution_count": 2,
     "metadata": {},
     "output_type": "execute_result"
    }
   ],
   "source": [
    "# Load in Farmington Community Hall AQ Monitor data into a pd df\n",
    "# Note that the second row contains the header names in the csv\n",
    "year1 = pd.read_csv(r'C:\\Users\\user\\PycharmProjects\\CIV1498Project2\\0-Raw_data\\2019_aq_data.csv', header=[1])\n",
    "year2 = pd.read_csv(r'C:\\Users\\user\\PycharmProjects\\CIV1498Project2\\0-Raw_data\\2020_aq_data.csv', header=[1])\n",
    "year3 = pd.read_csv(r'C:\\Users\\user\\PycharmProjects\\CIV1498Project2\\0-Raw_data\\2021_aq_data.csv', header=[1])\n",
    "\n",
    "year1.tail()"
   ],
   "metadata": {
    "collapsed": false,
    "pycharm": {
     "name": "#%%\n"
    }
   }
  },
  {
   "cell_type": "code",
   "execution_count": 3,
   "outputs": [],
   "source": [
    "# Drop the last 8 rows that contain data summaries *** note to check if it is always the last 8 rows for other files\n",
    "year1 = year1[:-8]\n",
    "year2 = year2[:-8]\n",
    "year3 = year3[:-8]"
   ],
   "metadata": {
    "collapsed": false,
    "pycharm": {
     "name": "#%%\n"
    }
   }
  },
  {
   "cell_type": "code",
   "execution_count": 4,
   "outputs": [],
   "source": [
    "# Drop first row (contains units)\n",
    "year1 = year1.iloc[1:]\n",
    "year2 = year2.iloc[1:]\n",
    "year3 = year3.iloc[1:]"
   ],
   "metadata": {
    "collapsed": false,
    "pycharm": {
     "name": "#%%\n"
    }
   }
  },
  {
   "cell_type": "code",
   "execution_count": 5,
   "outputs": [
    {
     "data": {
      "text/plain": "             Date      Time   NOx  SO2   NO   NO2   TRS    O3\n26280  12/30/2021  24:00 AM   5.9  0.1    0   5.9     0    20\n26281  12/31/2021   1:00 AM   4.9  0.1  0.1   4.9  -0.1  20.9\n26282  12/31/2021   2:00 AM   3.8    0    0   3.8  -0.1  24.1\n26283  12/31/2021   3:00 AM   3.8  0.1  0.1   3.7  -0.2  21.7\n26284  12/31/2021   4:00 AM     4    0    0     4  -0.2  22.1\n26285  12/31/2021   5:00 AM   5.7    0  0.2   5.5  -0.1  19.8\n26286  12/31/2021   6:00 AM   4.2  0.1  0.1   4.1  -0.1  20.1\n26287  12/31/2021   7:00 AM     4    0    0     4  -0.1  20.5\n26288  12/31/2021   8:00 AM   5.2    0  0.1   5.1  -0.1  19.3\n26289  12/31/2021   9:00 AM   5.6  0.1  0.4   5.1  -0.1  19.5\n26290  12/31/2021  10:00 AM   6.1  0.1  1.4   4.7     0  20.6\n26291  12/31/2021  11:00 AM   4.9  0.4  1.8   3.1   0.1  24.2\n26292  12/31/2021  12:00 PM   4.3  0.3  1.8   2.5   0.1  25.7\n26293  12/31/2021   1:00 PM  12.1  0.4  5.3   6.7   0.1  23.3\n26294  12/31/2021   2:00 PM  17.1  0.5  8.6   8.5   0.2  21.5\n26295  12/31/2021   3:00 PM   9.9  0.3  2.7   7.1   0.3  21.3\n26296  12/31/2021   4:00 PM   7.4  0.3  0.7   6.7   0.3  18.9\n26297  12/31/2021   5:00 PM  10.2  0.3  0.6   9.6   0.3  14.8\n26298  12/31/2021   6:00 PM  10.8  0.2    0  10.8   0.3  13.8\n26299  12/31/2021   7:00 PM  18.1  0.4  1.4  16.6   0.3   9.5\n26300  12/31/2021   8:00 PM  23.3  0.3  0.8  22.6   0.4   4.3\n26301  12/31/2021   9:00 PM  19.3  0.4  1.2  18.1   0.5   8.4\n26302  12/31/2021  10:00 PM   NaN  NaN  NaN   NaN   NaN   NaN\n26303  12/31/2021  11:00 PM  16.3  0.3  0.1  16.2   0.4   8.2",
      "text/html": "<div>\n<style scoped>\n    .dataframe tbody tr th:only-of-type {\n        vertical-align: middle;\n    }\n\n    .dataframe tbody tr th {\n        vertical-align: top;\n    }\n\n    .dataframe thead th {\n        text-align: right;\n    }\n</style>\n<table border=\"1\" class=\"dataframe\">\n  <thead>\n    <tr style=\"text-align: right;\">\n      <th></th>\n      <th>Date</th>\n      <th>Time</th>\n      <th>NOx</th>\n      <th>SO2</th>\n      <th>NO</th>\n      <th>NO2</th>\n      <th>TRS</th>\n      <th>O3</th>\n    </tr>\n  </thead>\n  <tbody>\n    <tr>\n      <th>26280</th>\n      <td>12/30/2021</td>\n      <td>24:00 AM</td>\n      <td>5.9</td>\n      <td>0.1</td>\n      <td>0</td>\n      <td>5.9</td>\n      <td>0</td>\n      <td>20</td>\n    </tr>\n    <tr>\n      <th>26281</th>\n      <td>12/31/2021</td>\n      <td>1:00 AM</td>\n      <td>4.9</td>\n      <td>0.1</td>\n      <td>0.1</td>\n      <td>4.9</td>\n      <td>-0.1</td>\n      <td>20.9</td>\n    </tr>\n    <tr>\n      <th>26282</th>\n      <td>12/31/2021</td>\n      <td>2:00 AM</td>\n      <td>3.8</td>\n      <td>0</td>\n      <td>0</td>\n      <td>3.8</td>\n      <td>-0.1</td>\n      <td>24.1</td>\n    </tr>\n    <tr>\n      <th>26283</th>\n      <td>12/31/2021</td>\n      <td>3:00 AM</td>\n      <td>3.8</td>\n      <td>0.1</td>\n      <td>0.1</td>\n      <td>3.7</td>\n      <td>-0.2</td>\n      <td>21.7</td>\n    </tr>\n    <tr>\n      <th>26284</th>\n      <td>12/31/2021</td>\n      <td>4:00 AM</td>\n      <td>4</td>\n      <td>0</td>\n      <td>0</td>\n      <td>4</td>\n      <td>-0.2</td>\n      <td>22.1</td>\n    </tr>\n    <tr>\n      <th>26285</th>\n      <td>12/31/2021</td>\n      <td>5:00 AM</td>\n      <td>5.7</td>\n      <td>0</td>\n      <td>0.2</td>\n      <td>5.5</td>\n      <td>-0.1</td>\n      <td>19.8</td>\n    </tr>\n    <tr>\n      <th>26286</th>\n      <td>12/31/2021</td>\n      <td>6:00 AM</td>\n      <td>4.2</td>\n      <td>0.1</td>\n      <td>0.1</td>\n      <td>4.1</td>\n      <td>-0.1</td>\n      <td>20.1</td>\n    </tr>\n    <tr>\n      <th>26287</th>\n      <td>12/31/2021</td>\n      <td>7:00 AM</td>\n      <td>4</td>\n      <td>0</td>\n      <td>0</td>\n      <td>4</td>\n      <td>-0.1</td>\n      <td>20.5</td>\n    </tr>\n    <tr>\n      <th>26288</th>\n      <td>12/31/2021</td>\n      <td>8:00 AM</td>\n      <td>5.2</td>\n      <td>0</td>\n      <td>0.1</td>\n      <td>5.1</td>\n      <td>-0.1</td>\n      <td>19.3</td>\n    </tr>\n    <tr>\n      <th>26289</th>\n      <td>12/31/2021</td>\n      <td>9:00 AM</td>\n      <td>5.6</td>\n      <td>0.1</td>\n      <td>0.4</td>\n      <td>5.1</td>\n      <td>-0.1</td>\n      <td>19.5</td>\n    </tr>\n    <tr>\n      <th>26290</th>\n      <td>12/31/2021</td>\n      <td>10:00 AM</td>\n      <td>6.1</td>\n      <td>0.1</td>\n      <td>1.4</td>\n      <td>4.7</td>\n      <td>0</td>\n      <td>20.6</td>\n    </tr>\n    <tr>\n      <th>26291</th>\n      <td>12/31/2021</td>\n      <td>11:00 AM</td>\n      <td>4.9</td>\n      <td>0.4</td>\n      <td>1.8</td>\n      <td>3.1</td>\n      <td>0.1</td>\n      <td>24.2</td>\n    </tr>\n    <tr>\n      <th>26292</th>\n      <td>12/31/2021</td>\n      <td>12:00 PM</td>\n      <td>4.3</td>\n      <td>0.3</td>\n      <td>1.8</td>\n      <td>2.5</td>\n      <td>0.1</td>\n      <td>25.7</td>\n    </tr>\n    <tr>\n      <th>26293</th>\n      <td>12/31/2021</td>\n      <td>1:00 PM</td>\n      <td>12.1</td>\n      <td>0.4</td>\n      <td>5.3</td>\n      <td>6.7</td>\n      <td>0.1</td>\n      <td>23.3</td>\n    </tr>\n    <tr>\n      <th>26294</th>\n      <td>12/31/2021</td>\n      <td>2:00 PM</td>\n      <td>17.1</td>\n      <td>0.5</td>\n      <td>8.6</td>\n      <td>8.5</td>\n      <td>0.2</td>\n      <td>21.5</td>\n    </tr>\n    <tr>\n      <th>26295</th>\n      <td>12/31/2021</td>\n      <td>3:00 PM</td>\n      <td>9.9</td>\n      <td>0.3</td>\n      <td>2.7</td>\n      <td>7.1</td>\n      <td>0.3</td>\n      <td>21.3</td>\n    </tr>\n    <tr>\n      <th>26296</th>\n      <td>12/31/2021</td>\n      <td>4:00 PM</td>\n      <td>7.4</td>\n      <td>0.3</td>\n      <td>0.7</td>\n      <td>6.7</td>\n      <td>0.3</td>\n      <td>18.9</td>\n    </tr>\n    <tr>\n      <th>26297</th>\n      <td>12/31/2021</td>\n      <td>5:00 PM</td>\n      <td>10.2</td>\n      <td>0.3</td>\n      <td>0.6</td>\n      <td>9.6</td>\n      <td>0.3</td>\n      <td>14.8</td>\n    </tr>\n    <tr>\n      <th>26298</th>\n      <td>12/31/2021</td>\n      <td>6:00 PM</td>\n      <td>10.8</td>\n      <td>0.2</td>\n      <td>0</td>\n      <td>10.8</td>\n      <td>0.3</td>\n      <td>13.8</td>\n    </tr>\n    <tr>\n      <th>26299</th>\n      <td>12/31/2021</td>\n      <td>7:00 PM</td>\n      <td>18.1</td>\n      <td>0.4</td>\n      <td>1.4</td>\n      <td>16.6</td>\n      <td>0.3</td>\n      <td>9.5</td>\n    </tr>\n    <tr>\n      <th>26300</th>\n      <td>12/31/2021</td>\n      <td>8:00 PM</td>\n      <td>23.3</td>\n      <td>0.3</td>\n      <td>0.8</td>\n      <td>22.6</td>\n      <td>0.4</td>\n      <td>4.3</td>\n    </tr>\n    <tr>\n      <th>26301</th>\n      <td>12/31/2021</td>\n      <td>9:00 PM</td>\n      <td>19.3</td>\n      <td>0.4</td>\n      <td>1.2</td>\n      <td>18.1</td>\n      <td>0.5</td>\n      <td>8.4</td>\n    </tr>\n    <tr>\n      <th>26302</th>\n      <td>12/31/2021</td>\n      <td>10:00 PM</td>\n      <td>NaN</td>\n      <td>NaN</td>\n      <td>NaN</td>\n      <td>NaN</td>\n      <td>NaN</td>\n      <td>NaN</td>\n    </tr>\n    <tr>\n      <th>26303</th>\n      <td>12/31/2021</td>\n      <td>11:00 PM</td>\n      <td>16.3</td>\n      <td>0.3</td>\n      <td>0.1</td>\n      <td>16.2</td>\n      <td>0.4</td>\n      <td>8.2</td>\n    </tr>\n  </tbody>\n</table>\n</div>"
     },
     "execution_count": 5,
     "metadata": {},
     "output_type": "execute_result"
    }
   ],
   "source": [
    "# Combine 3 years\n",
    "FarmingtonCommunityHall_AQ = pd.concat([year1, year2, year3], ignore_index=True)\n",
    "FarmingtonCommunityHall_AQ.tail(24)"
   ],
   "metadata": {
    "collapsed": false,
    "pycharm": {
     "name": "#%%\n"
    }
   }
  },
  {
   "cell_type": "code",
   "execution_count": 6,
   "outputs": [],
   "source": [
    "# Designate data types\n",
    "FarmingtonCommunityHall_AQ[\"Date\"] = FarmingtonCommunityHall_AQ[\"Date\"].astype(str)\n",
    "FarmingtonCommunityHall_AQ[\"Time\"] = FarmingtonCommunityHall_AQ[\"Time\"].astype(str)\n",
    "FarmingtonCommunityHall_AQ[[\"NOx\", \"SO2\", \"NO\", \"NO2\", \"TRS\", \"O3\"]] = FarmingtonCommunityHall_AQ[[\"NOx\", \"SO2\", \"NO\", \"NO2\", \"TRS\", \"O3\"]].apply(pd.to_numeric)"
   ],
   "metadata": {
    "collapsed": false,
    "pycharm": {
     "name": "#%%\n"
    }
   }
  },
  {
   "cell_type": "code",
   "execution_count": 7,
   "outputs": [
    {
     "data": {
      "text/plain": "                     NOx  SO2   NO  NO2  TRS    O3\nDatetime                                          \n2018-12-31 00:00:00  0.6  0.4  0.0  0.6  0.6  38.3\n2019-01-01 01:00:00  1.2  0.4  0.2  1.0  0.7  37.6\n2019-01-01 02:00:00  NaN  NaN  NaN  NaN  NaN   NaN\n2019-01-01 03:00:00  0.6  0.2  0.1  0.5  0.1  38.1\n2019-01-01 04:00:00  1.7  0.1  0.1  1.6  0.0  36.7\n2019-01-01 05:00:00  0.5  0.1  0.1  0.3  0.0  37.9\n2019-01-01 06:00:00  0.5  0.3  0.2  0.3  0.1  37.8\n2019-01-01 07:00:00  0.6  0.5  0.2  0.4  0.1  37.5\n2019-01-01 08:00:00  0.4  0.6  0.1  0.3  0.1  37.2\n2019-01-01 09:00:00  0.9  0.5  0.4  0.4  0.1  36.8\n2019-01-01 10:00:00  0.6  0.8  0.2  0.4  0.1  36.5\n2019-01-01 11:00:00  0.9  0.9  0.4  0.5  0.1  36.3\n2019-01-01 12:00:00  0.7  0.4  0.2  0.4  0.0  36.3\n2019-01-01 13:00:00  1.9  0.3  1.6  0.4  0.1  36.4\n2019-01-01 14:00:00  1.3  0.6  0.8  0.6  0.2  36.1\n2019-01-01 15:00:00  0.7  0.3  0.2  0.5  0.1  36.3\n2019-01-01 16:00:00  0.4  0.2  0.1  0.3  0.1  36.7\n2019-01-01 17:00:00  0.6  0.1  0.2  0.4  0.1  36.7\n2019-01-01 18:00:00  0.5  0.1  0.1  0.3  0.2  37.0\n2019-01-01 19:00:00  0.5  0.1  0.3  0.3  0.3  37.2\n2019-01-01 20:00:00  0.7  0.2  0.2  0.4  0.3  37.0\n2019-01-01 21:00:00  1.2  0.3  0.2  1.0  0.3  37.2\n2019-01-01 22:00:00  0.5  0.2  0.2  0.4  0.3  38.1\n2019-01-01 23:00:00  0.4  0.2  0.1  0.3  0.3  38.2",
      "text/html": "<div>\n<style scoped>\n    .dataframe tbody tr th:only-of-type {\n        vertical-align: middle;\n    }\n\n    .dataframe tbody tr th {\n        vertical-align: top;\n    }\n\n    .dataframe thead th {\n        text-align: right;\n    }\n</style>\n<table border=\"1\" class=\"dataframe\">\n  <thead>\n    <tr style=\"text-align: right;\">\n      <th></th>\n      <th>NOx</th>\n      <th>SO2</th>\n      <th>NO</th>\n      <th>NO2</th>\n      <th>TRS</th>\n      <th>O3</th>\n    </tr>\n    <tr>\n      <th>Datetime</th>\n      <th></th>\n      <th></th>\n      <th></th>\n      <th></th>\n      <th></th>\n      <th></th>\n    </tr>\n  </thead>\n  <tbody>\n    <tr>\n      <th>2018-12-31 00:00:00</th>\n      <td>0.6</td>\n      <td>0.4</td>\n      <td>0.0</td>\n      <td>0.6</td>\n      <td>0.6</td>\n      <td>38.3</td>\n    </tr>\n    <tr>\n      <th>2019-01-01 01:00:00</th>\n      <td>1.2</td>\n      <td>0.4</td>\n      <td>0.2</td>\n      <td>1.0</td>\n      <td>0.7</td>\n      <td>37.6</td>\n    </tr>\n    <tr>\n      <th>2019-01-01 02:00:00</th>\n      <td>NaN</td>\n      <td>NaN</td>\n      <td>NaN</td>\n      <td>NaN</td>\n      <td>NaN</td>\n      <td>NaN</td>\n    </tr>\n    <tr>\n      <th>2019-01-01 03:00:00</th>\n      <td>0.6</td>\n      <td>0.2</td>\n      <td>0.1</td>\n      <td>0.5</td>\n      <td>0.1</td>\n      <td>38.1</td>\n    </tr>\n    <tr>\n      <th>2019-01-01 04:00:00</th>\n      <td>1.7</td>\n      <td>0.1</td>\n      <td>0.1</td>\n      <td>1.6</td>\n      <td>0.0</td>\n      <td>36.7</td>\n    </tr>\n    <tr>\n      <th>2019-01-01 05:00:00</th>\n      <td>0.5</td>\n      <td>0.1</td>\n      <td>0.1</td>\n      <td>0.3</td>\n      <td>0.0</td>\n      <td>37.9</td>\n    </tr>\n    <tr>\n      <th>2019-01-01 06:00:00</th>\n      <td>0.5</td>\n      <td>0.3</td>\n      <td>0.2</td>\n      <td>0.3</td>\n      <td>0.1</td>\n      <td>37.8</td>\n    </tr>\n    <tr>\n      <th>2019-01-01 07:00:00</th>\n      <td>0.6</td>\n      <td>0.5</td>\n      <td>0.2</td>\n      <td>0.4</td>\n      <td>0.1</td>\n      <td>37.5</td>\n    </tr>\n    <tr>\n      <th>2019-01-01 08:00:00</th>\n      <td>0.4</td>\n      <td>0.6</td>\n      <td>0.1</td>\n      <td>0.3</td>\n      <td>0.1</td>\n      <td>37.2</td>\n    </tr>\n    <tr>\n      <th>2019-01-01 09:00:00</th>\n      <td>0.9</td>\n      <td>0.5</td>\n      <td>0.4</td>\n      <td>0.4</td>\n      <td>0.1</td>\n      <td>36.8</td>\n    </tr>\n    <tr>\n      <th>2019-01-01 10:00:00</th>\n      <td>0.6</td>\n      <td>0.8</td>\n      <td>0.2</td>\n      <td>0.4</td>\n      <td>0.1</td>\n      <td>36.5</td>\n    </tr>\n    <tr>\n      <th>2019-01-01 11:00:00</th>\n      <td>0.9</td>\n      <td>0.9</td>\n      <td>0.4</td>\n      <td>0.5</td>\n      <td>0.1</td>\n      <td>36.3</td>\n    </tr>\n    <tr>\n      <th>2019-01-01 12:00:00</th>\n      <td>0.7</td>\n      <td>0.4</td>\n      <td>0.2</td>\n      <td>0.4</td>\n      <td>0.0</td>\n      <td>36.3</td>\n    </tr>\n    <tr>\n      <th>2019-01-01 13:00:00</th>\n      <td>1.9</td>\n      <td>0.3</td>\n      <td>1.6</td>\n      <td>0.4</td>\n      <td>0.1</td>\n      <td>36.4</td>\n    </tr>\n    <tr>\n      <th>2019-01-01 14:00:00</th>\n      <td>1.3</td>\n      <td>0.6</td>\n      <td>0.8</td>\n      <td>0.6</td>\n      <td>0.2</td>\n      <td>36.1</td>\n    </tr>\n    <tr>\n      <th>2019-01-01 15:00:00</th>\n      <td>0.7</td>\n      <td>0.3</td>\n      <td>0.2</td>\n      <td>0.5</td>\n      <td>0.1</td>\n      <td>36.3</td>\n    </tr>\n    <tr>\n      <th>2019-01-01 16:00:00</th>\n      <td>0.4</td>\n      <td>0.2</td>\n      <td>0.1</td>\n      <td>0.3</td>\n      <td>0.1</td>\n      <td>36.7</td>\n    </tr>\n    <tr>\n      <th>2019-01-01 17:00:00</th>\n      <td>0.6</td>\n      <td>0.1</td>\n      <td>0.2</td>\n      <td>0.4</td>\n      <td>0.1</td>\n      <td>36.7</td>\n    </tr>\n    <tr>\n      <th>2019-01-01 18:00:00</th>\n      <td>0.5</td>\n      <td>0.1</td>\n      <td>0.1</td>\n      <td>0.3</td>\n      <td>0.2</td>\n      <td>37.0</td>\n    </tr>\n    <tr>\n      <th>2019-01-01 19:00:00</th>\n      <td>0.5</td>\n      <td>0.1</td>\n      <td>0.3</td>\n      <td>0.3</td>\n      <td>0.3</td>\n      <td>37.2</td>\n    </tr>\n    <tr>\n      <th>2019-01-01 20:00:00</th>\n      <td>0.7</td>\n      <td>0.2</td>\n      <td>0.2</td>\n      <td>0.4</td>\n      <td>0.3</td>\n      <td>37.0</td>\n    </tr>\n    <tr>\n      <th>2019-01-01 21:00:00</th>\n      <td>1.2</td>\n      <td>0.3</td>\n      <td>0.2</td>\n      <td>1.0</td>\n      <td>0.3</td>\n      <td>37.2</td>\n    </tr>\n    <tr>\n      <th>2019-01-01 22:00:00</th>\n      <td>0.5</td>\n      <td>0.2</td>\n      <td>0.2</td>\n      <td>0.4</td>\n      <td>0.3</td>\n      <td>38.1</td>\n    </tr>\n    <tr>\n      <th>2019-01-01 23:00:00</th>\n      <td>0.4</td>\n      <td>0.2</td>\n      <td>0.1</td>\n      <td>0.3</td>\n      <td>0.3</td>\n      <td>38.2</td>\n    </tr>\n  </tbody>\n</table>\n</div>"
     },
     "execution_count": 7,
     "metadata": {},
     "output_type": "execute_result"
    }
   ],
   "source": [
    "# Turn the Date and Time columns into a DateTimeIndex\n",
    "format = '%m/%d/%Y %I:%M %p'\n",
    "FarmingtonCommunityHall_AQ['Date'] = FarmingtonCommunityHall_AQ[['Date', 'Time']].agg(' '.join, axis =1)\n",
    "FarmingtonCommunityHall_AQ['Date'] = FarmingtonCommunityHall_AQ['Date'].str.replace('24:00 AM', '12:00 AM')\n",
    "FarmingtonCommunityHall_AQ['Datetime'] = pd.to_datetime(FarmingtonCommunityHall_AQ['Date'].astype(\"string\"), format=format)\n",
    "FarmingtonCommunityHall_AQ = FarmingtonCommunityHall_AQ.set_index(pd.DatetimeIndex(FarmingtonCommunityHall_AQ['Datetime']))\n",
    "FarmingtonCommunityHall_AQ.drop(['Time','Date', 'Datetime'], axis=1, inplace=True)\n",
    "\n",
    "# View the df\n",
    "#print(FarmingtonCommunityHall_AQ.info())\n",
    "FarmingtonCommunityHall_AQ.head(24)"
   ],
   "metadata": {
    "collapsed": false,
    "pycharm": {
     "name": "#%%\n"
    }
   }
  },
  {
   "cell_type": "code",
   "execution_count": 8,
   "outputs": [
    {
     "data": {
      "text/plain": "                     NOx  SO2    NO   NO2  TRS     O3\nDatetime                                             \n2018-12-31 00:00:00  0.6  0.4  0.00  0.60  0.6  38.30\n2019-01-01 01:00:00  1.2  0.4  0.20  1.00  0.7  37.60\n2019-01-01 02:00:00  0.9  0.3  0.15  0.75  0.4  37.85\n2019-01-01 03:00:00  0.6  0.2  0.10  0.50  0.1  38.10\n2019-01-01 04:00:00  1.7  0.1  0.10  1.60  0.0  36.70",
      "text/html": "<div>\n<style scoped>\n    .dataframe tbody tr th:only-of-type {\n        vertical-align: middle;\n    }\n\n    .dataframe tbody tr th {\n        vertical-align: top;\n    }\n\n    .dataframe thead th {\n        text-align: right;\n    }\n</style>\n<table border=\"1\" class=\"dataframe\">\n  <thead>\n    <tr style=\"text-align: right;\">\n      <th></th>\n      <th>NOx</th>\n      <th>SO2</th>\n      <th>NO</th>\n      <th>NO2</th>\n      <th>TRS</th>\n      <th>O3</th>\n    </tr>\n    <tr>\n      <th>Datetime</th>\n      <th></th>\n      <th></th>\n      <th></th>\n      <th></th>\n      <th></th>\n      <th></th>\n    </tr>\n  </thead>\n  <tbody>\n    <tr>\n      <th>2018-12-31 00:00:00</th>\n      <td>0.6</td>\n      <td>0.4</td>\n      <td>0.00</td>\n      <td>0.60</td>\n      <td>0.6</td>\n      <td>38.30</td>\n    </tr>\n    <tr>\n      <th>2019-01-01 01:00:00</th>\n      <td>1.2</td>\n      <td>0.4</td>\n      <td>0.20</td>\n      <td>1.00</td>\n      <td>0.7</td>\n      <td>37.60</td>\n    </tr>\n    <tr>\n      <th>2019-01-01 02:00:00</th>\n      <td>0.9</td>\n      <td>0.3</td>\n      <td>0.15</td>\n      <td>0.75</td>\n      <td>0.4</td>\n      <td>37.85</td>\n    </tr>\n    <tr>\n      <th>2019-01-01 03:00:00</th>\n      <td>0.6</td>\n      <td>0.2</td>\n      <td>0.10</td>\n      <td>0.50</td>\n      <td>0.1</td>\n      <td>38.10</td>\n    </tr>\n    <tr>\n      <th>2019-01-01 04:00:00</th>\n      <td>1.7</td>\n      <td>0.1</td>\n      <td>0.10</td>\n      <td>1.60</td>\n      <td>0.0</td>\n      <td>36.70</td>\n    </tr>\n  </tbody>\n</table>\n</div>"
     },
     "execution_count": 8,
     "metadata": {},
     "output_type": "execute_result"
    }
   ],
   "source": [
    "# Linear interpolation for missing values\n",
    "FarmingtonCommunityHall_AQ = FarmingtonCommunityHall_AQ.interpolate(method='linear', axis = 0)\n",
    "FarmingtonCommunityHall_AQ.head()"
   ],
   "metadata": {
    "collapsed": false,
    "pycharm": {
     "name": "#%%\n"
    }
   }
  },
  {
   "cell_type": "code",
   "execution_count": 9,
   "outputs": [
    {
     "data": {
      "text/plain": "NOx    0\nSO2    0\nNO     0\nNO2    0\nTRS    0\nO3     0\ndtype: int64"
     },
     "execution_count": 9,
     "metadata": {},
     "output_type": "execute_result"
    }
   ],
   "source": [
    "# Check if there are any missing values\n",
    "FarmingtonCommunityHall_AQ.isna().sum()"
   ],
   "metadata": {
    "collapsed": false,
    "pycharm": {
     "name": "#%%\n"
    }
   }
  },
  {
   "cell_type": "code",
   "execution_count": 10,
   "outputs": [
    {
     "data": {
      "text/plain": "                 NOx       SO2        NO       NO2       TRS         O3\nDatetime                                                               \n2018-12-31  0.600000  0.400000  0.000000  0.600000  0.600000  38.300000\n2019-01-01  0.820833  0.333333  0.268750  0.543750  0.183333  37.122917\n2019-01-02  0.739583  0.283333  0.229167  0.510417  0.104167  37.287500\n2019-01-03  6.056250  0.297917  0.677083  5.362500  0.110417  28.483333\n2019-01-04  6.258333  0.687500  0.377083  5.879167  0.172917  24.160417",
      "text/html": "<div>\n<style scoped>\n    .dataframe tbody tr th:only-of-type {\n        vertical-align: middle;\n    }\n\n    .dataframe tbody tr th {\n        vertical-align: top;\n    }\n\n    .dataframe thead th {\n        text-align: right;\n    }\n</style>\n<table border=\"1\" class=\"dataframe\">\n  <thead>\n    <tr style=\"text-align: right;\">\n      <th></th>\n      <th>NOx</th>\n      <th>SO2</th>\n      <th>NO</th>\n      <th>NO2</th>\n      <th>TRS</th>\n      <th>O3</th>\n    </tr>\n    <tr>\n      <th>Datetime</th>\n      <th></th>\n      <th></th>\n      <th></th>\n      <th></th>\n      <th></th>\n      <th></th>\n    </tr>\n  </thead>\n  <tbody>\n    <tr>\n      <th>2018-12-31</th>\n      <td>0.600000</td>\n      <td>0.400000</td>\n      <td>0.000000</td>\n      <td>0.600000</td>\n      <td>0.600000</td>\n      <td>38.300000</td>\n    </tr>\n    <tr>\n      <th>2019-01-01</th>\n      <td>0.820833</td>\n      <td>0.333333</td>\n      <td>0.268750</td>\n      <td>0.543750</td>\n      <td>0.183333</td>\n      <td>37.122917</td>\n    </tr>\n    <tr>\n      <th>2019-01-02</th>\n      <td>0.739583</td>\n      <td>0.283333</td>\n      <td>0.229167</td>\n      <td>0.510417</td>\n      <td>0.104167</td>\n      <td>37.287500</td>\n    </tr>\n    <tr>\n      <th>2019-01-03</th>\n      <td>6.056250</td>\n      <td>0.297917</td>\n      <td>0.677083</td>\n      <td>5.362500</td>\n      <td>0.110417</td>\n      <td>28.483333</td>\n    </tr>\n    <tr>\n      <th>2019-01-04</th>\n      <td>6.258333</td>\n      <td>0.687500</td>\n      <td>0.377083</td>\n      <td>5.879167</td>\n      <td>0.172917</td>\n      <td>24.160417</td>\n    </tr>\n  </tbody>\n</table>\n</div>"
     },
     "execution_count": 10,
     "metadata": {},
     "output_type": "execute_result"
    }
   ],
   "source": [
    "# Calculate the mean of all pollutants over a 24 period\n",
    "FarmingtonCommunityHall_AQ_Daily = FarmingtonCommunityHall_AQ.resample('D').mean()\n",
    "FarmingtonCommunityHall_AQ_Daily.head()"
   ],
   "metadata": {
    "collapsed": false,
    "pycharm": {
     "name": "#%%\n"
    }
   }
  },
  {
   "cell_type": "code",
   "execution_count": null,
   "outputs": [],
   "source": [
    "# Calculate the mean of all pollutants over a 24 period\n",
    "FarmingtonCommunityHall_AQ_Monthly = FarmingtonCommunityHall_AQ.resample('M').mean()\n",
    "FarmingtonCommunityHall_AQ_Monthly.head()"
   ],
   "metadata": {
    "collapsed": false,
    "pycharm": {
     "name": "#%%\n"
    }
   }
  },
  {
   "cell_type": "code",
   "execution_count": null,
   "outputs": [],
   "source": [
    "plt.figure(figsize=(10,5))\n",
    "plt.plot(FarmingtonCommunityHall_AQ_Daily.index, FarmingtonCommunityHall_AQ_Daily['O3'], 'gray', label = 'Daily Mean')\n",
    "plt.plot(FarmingtonCommunityHall_AQ_Monthly.index, FarmingtonCommunityHall_AQ_Monthly['O3'], 'r', label = 'Monthly Mean')\n",
    "\n",
    "plt.ylabel('O3 Concentration (ppb)')\n",
    "plt.xlabel('Date', fontsize=14)\n",
    "\n",
    "plt.legend()\n",
    "plt.title('Daily Ozone (ppb) Concentration', fontsize=16)\n",
    "plt.show()"
   ],
   "metadata": {
    "collapsed": false,
    "pycharm": {
     "name": "#%%\n"
    }
   }
  },
  {
   "cell_type": "code",
   "execution_count": null,
   "outputs": [],
   "source": [
    "plt.figure(figsize=(10,5))\n",
    "\n",
    "plt.plot(FarmingtonCommunityHall_AQ_Daily.index, FarmingtonCommunityHall_AQ_Daily['NOx'], 'gray', label = 'Daily Mean')\n",
    "plt.plot(FarmingtonCommunityHall_AQ_Monthly.index, FarmingtonCommunityHall_AQ_Monthly['NOx'], 'r', label = 'Monthly Mean')\n",
    "\n",
    "plt.xlabel('Date', fontsize=14)\n",
    "plt.ylabel('NOx (ppb)')\n",
    "\n",
    "\n",
    "plt.title('Daily NOx Concentration', fontsize=16)\n",
    "plt.show()"
   ],
   "metadata": {
    "collapsed": false,
    "pycharm": {
     "name": "#%%\n"
    }
   }
  },
  {
   "cell_type": "code",
   "execution_count": null,
   "outputs": [],
   "source": [
    "plt.figure(figsize=(10,5))\n",
    "\n",
    "plt.plot(FarmingtonCommunityHall_AQ_Daily.index, FarmingtonCommunityHall_AQ_Daily['SO2'], 'gray', label = 'Daily Mean')\n",
    "plt.plot(FarmingtonCommunityHall_AQ_Monthly.index, FarmingtonCommunityHall_AQ_Monthly['SO2'], 'r', label = 'Monthly Mean')\n",
    "\n",
    "plt.xlabel('Date', fontsize=14)\n",
    "plt.ylabel('SO2 (ppb)')\n",
    "\n",
    "\n",
    "plt.title('Daily SO2 Concentration', fontsize=16)\n",
    "plt.show()"
   ],
   "metadata": {
    "collapsed": false,
    "pycharm": {
     "name": "#%%\n"
    }
   }
  },
  {
   "cell_type": "code",
   "execution_count": null,
   "outputs": [],
   "source": [
    "plt.figure(figsize=(10,5))\n",
    "\n",
    "plt.plot(FarmingtonCommunityHall_AQ_Daily.index, FarmingtonCommunityHall_AQ_Daily['NO'], 'gray', label = 'Daily Mean')\n",
    "plt.plot(FarmingtonCommunityHall_AQ_Monthly.index, FarmingtonCommunityHall_AQ_Monthly['NO'], 'r', label = 'Monthly Mean')\n",
    "\n",
    "plt.xlabel('Date', fontsize=14)\n",
    "plt.ylabel('NO (ppb)')\n",
    "\n",
    "\n",
    "plt.title('Daily NO Concentration', fontsize=16)\n",
    "plt.show()"
   ],
   "metadata": {
    "collapsed": false,
    "pycharm": {
     "name": "#%%\n"
    }
   }
  },
  {
   "cell_type": "code",
   "execution_count": null,
   "outputs": [],
   "source": [
    "plt.figure(figsize=(10,5))\n",
    "\n",
    "plt.plot(FarmingtonCommunityHall_AQ_Daily.index, FarmingtonCommunityHall_AQ_Daily['NO2'], 'gray', label = 'Daily Mean')\n",
    "plt.plot(FarmingtonCommunityHall_AQ_Monthly.index, FarmingtonCommunityHall_AQ_Monthly['NO2'], 'r', label = 'Monthly Mean')\n",
    "\n",
    "\n",
    "plt.xlabel('Date', fontsize=14)\n",
    "plt.ylabel('NO2 (ppb)')\n",
    "\n",
    "\n",
    "plt.title('Daily NO2 Concentration', fontsize=16)\n",
    "plt.show()"
   ],
   "metadata": {
    "collapsed": false,
    "pycharm": {
     "name": "#%%\n"
    }
   }
  },
  {
   "cell_type": "code",
   "execution_count": null,
   "outputs": [],
   "source": [
    "plt.figure(figsize=(10,5))\n",
    "\n",
    "plt.plot(FarmingtonCommunityHall_AQ_Daily.index, FarmingtonCommunityHall_AQ_Daily['TRS'], 'gray', label = 'Daily Mean')\n",
    "plt.plot(FarmingtonCommunityHall_AQ_Monthly.index, FarmingtonCommunityHall_AQ_Monthly['TRS'], 'r', label = 'Monthly Mean')\n",
    "\n",
    "\n",
    "plt.xlabel('Date', fontsize=14)\n",
    "plt.ylabel('TRS (ppb)')\n",
    "\n",
    "\n",
    "plt.title('Daily TRS Concentration', fontsize=16)\n",
    "plt.show()"
   ],
   "metadata": {
    "collapsed": false,
    "pycharm": {
     "name": "#%%\n"
    }
   }
  },
  {
   "cell_type": "code",
   "execution_count": null,
   "outputs": [],
   "source": [
    "# Drop O3 from dataframe for boxplot\n",
    "no_O3 = FarmingtonCommunityHall_AQ.drop(['O3'], axis=1)\n",
    "O3 = FarmingtonCommunityHall_AQ[['O3']]\n",
    "O3.head()"
   ],
   "metadata": {
    "collapsed": false,
    "pycharm": {
     "name": "#%%\n"
    }
   }
  },
  {
   "cell_type": "code",
   "execution_count": null,
   "outputs": [],
   "source": [
    "# Distribution of concentrations over 3 year period\n",
    "sns.boxplot(x=\"variable\", y=\"value\", data=pd.melt(no_O3),\n",
    "           showfliers = False)"
   ],
   "metadata": {
    "collapsed": false,
    "pycharm": {
     "name": "#%%\n"
    }
   }
  },
  {
   "cell_type": "code",
   "execution_count": null,
   "outputs": [],
   "source": [
    "# Distribution for O3 over 3 year period\n",
    "sns.boxplot(x=\"variable\", y=\"value\", data=pd.melt(no_O3),\n",
    "           showfliers = False)"
   ],
   "metadata": {
    "collapsed": false,
    "pycharm": {
     "name": "#%%\n"
    }
   }
  }
 ],
 "metadata": {
  "kernelspec": {
   "display_name": "Python 3",
   "language": "python",
   "name": "python3"
  },
  "language_info": {
   "codemirror_mode": {
    "name": "ipython",
    "version": 2
   },
   "file_extension": ".py",
   "mimetype": "text/x-python",
   "name": "python",
   "nbconvert_exporter": "python",
   "pygments_lexer": "ipython2",
   "version": "2.7.6"
  }
 },
 "nbformat": 4,
 "nbformat_minor": 0
}