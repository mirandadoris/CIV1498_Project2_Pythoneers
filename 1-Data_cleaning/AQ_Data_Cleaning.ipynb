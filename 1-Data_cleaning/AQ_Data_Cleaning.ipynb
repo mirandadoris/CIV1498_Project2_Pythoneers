{
 "cells": [
  {
   "cell_type": "markdown",
   "metadata": {
    "collapsed": true,
    "pycharm": {
     "name": "#%% md\n"
    }
   },
   "source": [
    "## Cleaning air quality data"
   ]
  },
  {
   "cell_type": "code",
   "execution_count": 1,
   "outputs": [],
   "source": [
    "# Import 3rd party libraries\n",
    "import numpy as np\n",
    "import pandas as pd\n",
    "import seaborn as sns\n",
    "import matplotlib.pyplot as plt\n",
    "from datetime import datetime\n",
    "import re\n",
    "\n",
    "# Configure Notebook\n",
    "%matplotlib inline\n",
    "plt.style.use('fivethirtyeight')\n",
    "sns.set_context(\"notebook\")\n",
    "import warnings\n",
    "warnings.filterwarnings('ignore')"
   ],
   "metadata": {
    "collapsed": false,
    "pycharm": {
     "name": "#%%\n"
    }
   }
  },
  {
   "cell_type": "markdown",
   "source": [
    "This notebook imports three years of air quality data from Farminton Community Hall, a small town in Northeast British Columbia. Data was downloaded from the following website: https://envistaweb.env.gov.bc.ca/\n",
    "The dataset includes six pollutants, measured hourly. They are NOx, SO2, NO, NO2, TRS, and O3. All units are in ppb."
   ],
   "metadata": {
    "collapsed": false,
    "pycharm": {
     "name": "#%% md\n"
    }
   }
  },
  {
   "cell_type": "code",
   "execution_count": 26,
   "outputs": [
    {
     "data": {
      "text/plain": "            Date      Time             NOx             SO2  \\\n8759  12/31/2019  10:00 PM             0.9             0.2   \n8760  12/31/2019  11:00 PM               1             0.1   \n8761     Minimum       NaN             0.1               0   \n8762    Min Date       NaN  10/6/2019 4:00  1/7/2019 20:00   \n8763     Maximum       NaN            59.6            44.5   \n8764    Max Date       NaN  6/16/2019 1:00  2/4/2019 16:00   \n8765         Avg       NaN             3.7             0.3   \n8766         Num       NaN            8366            8248   \n8767     Data[%]       NaN              96              94   \n8768         STD       NaN             4.6             0.8   \n\n                       NO                  NO2               TRS  \\\n8759                  0.2                  0.8               0.4   \n8760                  0.3                  0.8               0.3   \n8761                    0                    0                 0   \n8762  12/31/2018 24:00 AM  11/17/2019 24:00 AM     1/1/2019 4:00   \n8763                 51.3                 34.1               1.8   \n8764       6/16/2019 1:00       1/8/2019 18:00  10/20/2019 22:00   \n8765                  0.8                  2.9               0.2   \n8766                 8366                 8366              8301   \n8767                   96                   96                95   \n8768                  2.3                  3.3               0.1   \n\n                   O3  \n8759             22.5  \n8760             20.2  \n8761                0  \n8762   1/8/2019 18:00  \n8763             60.7  \n8764  3/21/2019 15:00  \n8765             25.2  \n8766             8368  \n8767               96  \n8768             11.7  ",
      "text/html": "<div>\n<style scoped>\n    .dataframe tbody tr th:only-of-type {\n        vertical-align: middle;\n    }\n\n    .dataframe tbody tr th {\n        vertical-align: top;\n    }\n\n    .dataframe thead th {\n        text-align: right;\n    }\n</style>\n<table border=\"1\" class=\"dataframe\">\n  <thead>\n    <tr style=\"text-align: right;\">\n      <th></th>\n      <th>Date</th>\n      <th>Time</th>\n      <th>NOx</th>\n      <th>SO2</th>\n      <th>NO</th>\n      <th>NO2</th>\n      <th>TRS</th>\n      <th>O3</th>\n    </tr>\n  </thead>\n  <tbody>\n    <tr>\n      <th>8759</th>\n      <td>12/31/2019</td>\n      <td>10:00 PM</td>\n      <td>0.9</td>\n      <td>0.2</td>\n      <td>0.2</td>\n      <td>0.8</td>\n      <td>0.4</td>\n      <td>22.5</td>\n    </tr>\n    <tr>\n      <th>8760</th>\n      <td>12/31/2019</td>\n      <td>11:00 PM</td>\n      <td>1</td>\n      <td>0.1</td>\n      <td>0.3</td>\n      <td>0.8</td>\n      <td>0.3</td>\n      <td>20.2</td>\n    </tr>\n    <tr>\n      <th>8761</th>\n      <td>Minimum</td>\n      <td>NaN</td>\n      <td>0.1</td>\n      <td>0</td>\n      <td>0</td>\n      <td>0</td>\n      <td>0</td>\n      <td>0</td>\n    </tr>\n    <tr>\n      <th>8762</th>\n      <td>Min Date</td>\n      <td>NaN</td>\n      <td>10/6/2019 4:00</td>\n      <td>1/7/2019 20:00</td>\n      <td>12/31/2018 24:00 AM</td>\n      <td>11/17/2019 24:00 AM</td>\n      <td>1/1/2019 4:00</td>\n      <td>1/8/2019 18:00</td>\n    </tr>\n    <tr>\n      <th>8763</th>\n      <td>Maximum</td>\n      <td>NaN</td>\n      <td>59.6</td>\n      <td>44.5</td>\n      <td>51.3</td>\n      <td>34.1</td>\n      <td>1.8</td>\n      <td>60.7</td>\n    </tr>\n    <tr>\n      <th>8764</th>\n      <td>Max Date</td>\n      <td>NaN</td>\n      <td>6/16/2019 1:00</td>\n      <td>2/4/2019 16:00</td>\n      <td>6/16/2019 1:00</td>\n      <td>1/8/2019 18:00</td>\n      <td>10/20/2019 22:00</td>\n      <td>3/21/2019 15:00</td>\n    </tr>\n    <tr>\n      <th>8765</th>\n      <td>Avg</td>\n      <td>NaN</td>\n      <td>3.7</td>\n      <td>0.3</td>\n      <td>0.8</td>\n      <td>2.9</td>\n      <td>0.2</td>\n      <td>25.2</td>\n    </tr>\n    <tr>\n      <th>8766</th>\n      <td>Num</td>\n      <td>NaN</td>\n      <td>8366</td>\n      <td>8248</td>\n      <td>8366</td>\n      <td>8366</td>\n      <td>8301</td>\n      <td>8368</td>\n    </tr>\n    <tr>\n      <th>8767</th>\n      <td>Data[%]</td>\n      <td>NaN</td>\n      <td>96</td>\n      <td>94</td>\n      <td>96</td>\n      <td>96</td>\n      <td>95</td>\n      <td>96</td>\n    </tr>\n    <tr>\n      <th>8768</th>\n      <td>STD</td>\n      <td>NaN</td>\n      <td>4.6</td>\n      <td>0.8</td>\n      <td>2.3</td>\n      <td>3.3</td>\n      <td>0.1</td>\n      <td>11.7</td>\n    </tr>\n  </tbody>\n</table>\n</div>"
     },
     "execution_count": 26,
     "metadata": {},
     "output_type": "execute_result"
    }
   ],
   "source": [
    "# Load in Farmington Community Hall AQ Monitor data into a pd df\n",
    "# Note that the second row contains the header names in the csv\n",
    "year1 = pd.read_csv(r'C:\\Users\\efarr\\PycharmProjects\\CIV1498Project2\\0-Raw_data\\2019_aq_data.csv', header=[1])\n",
    "year2 = pd.read_csv(r'C:\\Users\\efarr\\PycharmProjects\\CIV1498Project2\\0-Raw_data\\2020_aq_data.csv', header=[1])\n",
    "year3 = pd.read_csv(r'C:\\Users\\efarr\\PycharmProjects\\CIV1498Project2\\0-Raw_data\\2021_aq_data.csv', header=[1])\n",
    "\n",
    "year1.tail(10)"
   ],
   "metadata": {
    "collapsed": false,
    "pycharm": {
     "name": "#%%\n"
    }
   }
  },
  {
   "cell_type": "markdown",
   "source": [
    "We can see that the last 8 rows of the dataframe contains statistical information rather than hourly measurements. The first row of the dataframe contains the unit of measurement for each column rather than hourly measurements. The first column contains the date and the second column contains the time of measurement."
   ],
   "metadata": {
    "collapsed": false,
    "pycharm": {
     "name": "#%% md\n"
    }
   }
  },
  {
   "cell_type": "code",
   "execution_count": 27,
   "outputs": [],
   "source": [
    "def clean_aq_data(df):\n",
    "    # A function that takes in a raw dataframe of air quality data and fixes the data types, combines\n",
    "    # the date and time columns into a DateTimeIndex and returns the dataframe\n",
    "\n",
    "    # Drop the first row and the last eight statistical summary rows\n",
    "    df = df[1:-8]\n",
    "\n",
    "    # Define datatypes\n",
    "    df['Date'] = df['Date'].astype(str)\n",
    "    df['Time'] = df['Time'].astype(str)\n",
    "    df[[\"NOx\", \"SO2\", \"NO\", \"NO2\", \"TRS\", \"O3\"]] = df[[\"NOx\", \"SO2\", \"NO\", \"NO2\", \"TRS\", \"O3\"]].astype(float)\n",
    "\n",
    "    # Turn data and time columns into a DateTimeIndex\n",
    "    format = '%m/%d/%Y %I:%M %p'\n",
    "    df['Date'] = df[['Date', 'Time']].agg(' '.join, axis =1)\n",
    "    df['Date'] = df['Date'].str.replace('24:00', '12:00')\n",
    "    df['Datetime'] = pd.to_datetime(df['Date'].astype(str), format=format)\n",
    "    df = df.set_index(pd.DatetimeIndex(df['Datetime']))\n",
    "    df.drop(['Date', 'Time', 'Datetime'], axis=1, inplace=True)\n",
    "\n",
    "\n",
    "    return df"
   ],
   "metadata": {
    "collapsed": false,
    "pycharm": {
     "name": "#%%\n"
    }
   }
  },
  {
   "cell_type": "code",
   "execution_count": 28,
   "outputs": [
    {
     "data": {
      "text/plain": "                     NOx  SO2   NO  NO2  TRS    O3\nDatetime                                          \n2018-12-31 00:00:00  0.6  0.4  0.0  0.6  0.6  38.3\n2019-01-01 01:00:00  1.2  0.4  0.2  1.0  0.7  37.6\n2019-01-01 02:00:00  NaN  NaN  NaN  NaN  NaN   NaN\n2019-01-01 03:00:00  0.6  0.2  0.1  0.5  0.1  38.1\n2019-01-01 04:00:00  1.7  0.1  0.1  1.6  0.0  36.7",
      "text/html": "<div>\n<style scoped>\n    .dataframe tbody tr th:only-of-type {\n        vertical-align: middle;\n    }\n\n    .dataframe tbody tr th {\n        vertical-align: top;\n    }\n\n    .dataframe thead th {\n        text-align: right;\n    }\n</style>\n<table border=\"1\" class=\"dataframe\">\n  <thead>\n    <tr style=\"text-align: right;\">\n      <th></th>\n      <th>NOx</th>\n      <th>SO2</th>\n      <th>NO</th>\n      <th>NO2</th>\n      <th>TRS</th>\n      <th>O3</th>\n    </tr>\n    <tr>\n      <th>Datetime</th>\n      <th></th>\n      <th></th>\n      <th></th>\n      <th></th>\n      <th></th>\n      <th></th>\n    </tr>\n  </thead>\n  <tbody>\n    <tr>\n      <th>2018-12-31 00:00:00</th>\n      <td>0.6</td>\n      <td>0.4</td>\n      <td>0.0</td>\n      <td>0.6</td>\n      <td>0.6</td>\n      <td>38.3</td>\n    </tr>\n    <tr>\n      <th>2019-01-01 01:00:00</th>\n      <td>1.2</td>\n      <td>0.4</td>\n      <td>0.2</td>\n      <td>1.0</td>\n      <td>0.7</td>\n      <td>37.6</td>\n    </tr>\n    <tr>\n      <th>2019-01-01 02:00:00</th>\n      <td>NaN</td>\n      <td>NaN</td>\n      <td>NaN</td>\n      <td>NaN</td>\n      <td>NaN</td>\n      <td>NaN</td>\n    </tr>\n    <tr>\n      <th>2019-01-01 03:00:00</th>\n      <td>0.6</td>\n      <td>0.2</td>\n      <td>0.1</td>\n      <td>0.5</td>\n      <td>0.1</td>\n      <td>38.1</td>\n    </tr>\n    <tr>\n      <th>2019-01-01 04:00:00</th>\n      <td>1.7</td>\n      <td>0.1</td>\n      <td>0.1</td>\n      <td>1.6</td>\n      <td>0.0</td>\n      <td>36.7</td>\n    </tr>\n  </tbody>\n</table>\n</div>"
     },
     "execution_count": 28,
     "metadata": {},
     "output_type": "execute_result"
    }
   ],
   "source": [
    "# Run aq dataframes through function to clean\n",
    "year1 = clean_aq_data(year1)\n",
    "year2 = clean_aq_data(year2)\n",
    "year3 = clean_aq_data(year3)\n",
    "\n",
    "# View data frame\n",
    "year1.head()"
   ],
   "metadata": {
    "collapsed": false,
    "pycharm": {
     "name": "#%%\n"
    }
   }
  },
  {
   "cell_type": "markdown",
   "source": [
    "Now that all years of weather data have been cleaned, they can be combined into one dataframe. Looking at the head and tail of the dataframes, we can see that some hourly measurements are not within the year specified. These can be removed to prevent overlap when combining the dataframes"
   ],
   "metadata": {
    "collapsed": false,
    "pycharm": {
     "name": "#%% md\n"
    }
   }
  },
  {
   "cell_type": "code",
   "execution_count": 29,
   "outputs": [
    {
     "data": {
      "text/plain": "        NOx  SO2   NO   NO2  TRS    O3\n26277   5.9  0.1  0.0   5.9  0.0  20.0\n26278   4.9  0.1  0.1   4.9 -0.1  20.9\n26279   3.8  0.0  0.0   3.8 -0.1  24.1\n26280   3.8  0.1  0.1   3.7 -0.2  21.7\n26281   4.0  0.0  0.0   4.0 -0.2  22.1\n26282   5.7  0.0  0.2   5.5 -0.1  19.8\n26283   4.2  0.1  0.1   4.1 -0.1  20.1\n26284   4.0  0.0  0.0   4.0 -0.1  20.5\n26285   5.2  0.0  0.1   5.1 -0.1  19.3\n26286   5.6  0.1  0.4   5.1 -0.1  19.5\n26287   6.1  0.1  1.4   4.7  0.0  20.6\n26288   4.9  0.4  1.8   3.1  0.1  24.2\n26289   4.3  0.3  1.8   2.5  0.1  25.7\n26290  12.1  0.4  5.3   6.7  0.1  23.3\n26291  17.1  0.5  8.6   8.5  0.2  21.5\n26292   9.9  0.3  2.7   7.1  0.3  21.3\n26293   7.4  0.3  0.7   6.7  0.3  18.9\n26294  10.2  0.3  0.6   9.6  0.3  14.8\n26295  10.8  0.2  0.0  10.8  0.3  13.8\n26296  18.1  0.4  1.4  16.6  0.3   9.5\n26297  23.3  0.3  0.8  22.6  0.4   4.3\n26298  19.3  0.4  1.2  18.1  0.5   8.4\n26299   NaN  NaN  NaN   NaN  NaN   NaN\n26300  16.3  0.3  0.1  16.2  0.4   8.2",
      "text/html": "<div>\n<style scoped>\n    .dataframe tbody tr th:only-of-type {\n        vertical-align: middle;\n    }\n\n    .dataframe tbody tr th {\n        vertical-align: top;\n    }\n\n    .dataframe thead th {\n        text-align: right;\n    }\n</style>\n<table border=\"1\" class=\"dataframe\">\n  <thead>\n    <tr style=\"text-align: right;\">\n      <th></th>\n      <th>NOx</th>\n      <th>SO2</th>\n      <th>NO</th>\n      <th>NO2</th>\n      <th>TRS</th>\n      <th>O3</th>\n    </tr>\n  </thead>\n  <tbody>\n    <tr>\n      <th>26277</th>\n      <td>5.9</td>\n      <td>0.1</td>\n      <td>0.0</td>\n      <td>5.9</td>\n      <td>0.0</td>\n      <td>20.0</td>\n    </tr>\n    <tr>\n      <th>26278</th>\n      <td>4.9</td>\n      <td>0.1</td>\n      <td>0.1</td>\n      <td>4.9</td>\n      <td>-0.1</td>\n      <td>20.9</td>\n    </tr>\n    <tr>\n      <th>26279</th>\n      <td>3.8</td>\n      <td>0.0</td>\n      <td>0.0</td>\n      <td>3.8</td>\n      <td>-0.1</td>\n      <td>24.1</td>\n    </tr>\n    <tr>\n      <th>26280</th>\n      <td>3.8</td>\n      <td>0.1</td>\n      <td>0.1</td>\n      <td>3.7</td>\n      <td>-0.2</td>\n      <td>21.7</td>\n    </tr>\n    <tr>\n      <th>26281</th>\n      <td>4.0</td>\n      <td>0.0</td>\n      <td>0.0</td>\n      <td>4.0</td>\n      <td>-0.2</td>\n      <td>22.1</td>\n    </tr>\n    <tr>\n      <th>26282</th>\n      <td>5.7</td>\n      <td>0.0</td>\n      <td>0.2</td>\n      <td>5.5</td>\n      <td>-0.1</td>\n      <td>19.8</td>\n    </tr>\n    <tr>\n      <th>26283</th>\n      <td>4.2</td>\n      <td>0.1</td>\n      <td>0.1</td>\n      <td>4.1</td>\n      <td>-0.1</td>\n      <td>20.1</td>\n    </tr>\n    <tr>\n      <th>26284</th>\n      <td>4.0</td>\n      <td>0.0</td>\n      <td>0.0</td>\n      <td>4.0</td>\n      <td>-0.1</td>\n      <td>20.5</td>\n    </tr>\n    <tr>\n      <th>26285</th>\n      <td>5.2</td>\n      <td>0.0</td>\n      <td>0.1</td>\n      <td>5.1</td>\n      <td>-0.1</td>\n      <td>19.3</td>\n    </tr>\n    <tr>\n      <th>26286</th>\n      <td>5.6</td>\n      <td>0.1</td>\n      <td>0.4</td>\n      <td>5.1</td>\n      <td>-0.1</td>\n      <td>19.5</td>\n    </tr>\n    <tr>\n      <th>26287</th>\n      <td>6.1</td>\n      <td>0.1</td>\n      <td>1.4</td>\n      <td>4.7</td>\n      <td>0.0</td>\n      <td>20.6</td>\n    </tr>\n    <tr>\n      <th>26288</th>\n      <td>4.9</td>\n      <td>0.4</td>\n      <td>1.8</td>\n      <td>3.1</td>\n      <td>0.1</td>\n      <td>24.2</td>\n    </tr>\n    <tr>\n      <th>26289</th>\n      <td>4.3</td>\n      <td>0.3</td>\n      <td>1.8</td>\n      <td>2.5</td>\n      <td>0.1</td>\n      <td>25.7</td>\n    </tr>\n    <tr>\n      <th>26290</th>\n      <td>12.1</td>\n      <td>0.4</td>\n      <td>5.3</td>\n      <td>6.7</td>\n      <td>0.1</td>\n      <td>23.3</td>\n    </tr>\n    <tr>\n      <th>26291</th>\n      <td>17.1</td>\n      <td>0.5</td>\n      <td>8.6</td>\n      <td>8.5</td>\n      <td>0.2</td>\n      <td>21.5</td>\n    </tr>\n    <tr>\n      <th>26292</th>\n      <td>9.9</td>\n      <td>0.3</td>\n      <td>2.7</td>\n      <td>7.1</td>\n      <td>0.3</td>\n      <td>21.3</td>\n    </tr>\n    <tr>\n      <th>26293</th>\n      <td>7.4</td>\n      <td>0.3</td>\n      <td>0.7</td>\n      <td>6.7</td>\n      <td>0.3</td>\n      <td>18.9</td>\n    </tr>\n    <tr>\n      <th>26294</th>\n      <td>10.2</td>\n      <td>0.3</td>\n      <td>0.6</td>\n      <td>9.6</td>\n      <td>0.3</td>\n      <td>14.8</td>\n    </tr>\n    <tr>\n      <th>26295</th>\n      <td>10.8</td>\n      <td>0.2</td>\n      <td>0.0</td>\n      <td>10.8</td>\n      <td>0.3</td>\n      <td>13.8</td>\n    </tr>\n    <tr>\n      <th>26296</th>\n      <td>18.1</td>\n      <td>0.4</td>\n      <td>1.4</td>\n      <td>16.6</td>\n      <td>0.3</td>\n      <td>9.5</td>\n    </tr>\n    <tr>\n      <th>26297</th>\n      <td>23.3</td>\n      <td>0.3</td>\n      <td>0.8</td>\n      <td>22.6</td>\n      <td>0.4</td>\n      <td>4.3</td>\n    </tr>\n    <tr>\n      <th>26298</th>\n      <td>19.3</td>\n      <td>0.4</td>\n      <td>1.2</td>\n      <td>18.1</td>\n      <td>0.5</td>\n      <td>8.4</td>\n    </tr>\n    <tr>\n      <th>26299</th>\n      <td>NaN</td>\n      <td>NaN</td>\n      <td>NaN</td>\n      <td>NaN</td>\n      <td>NaN</td>\n      <td>NaN</td>\n    </tr>\n    <tr>\n      <th>26300</th>\n      <td>16.3</td>\n      <td>0.3</td>\n      <td>0.1</td>\n      <td>16.2</td>\n      <td>0.4</td>\n      <td>8.2</td>\n    </tr>\n  </tbody>\n</table>\n</div>"
     },
     "execution_count": 29,
     "metadata": {},
     "output_type": "execute_result"
    }
   ],
   "source": [
    "# Remove any hourly measurements that are not part of the year to prevent overlap when combining dataframes\n",
    "# Filter data between two dates\n",
    "year1 = year1.loc[(year1.index >= '2019-01-01')\n",
    "                                          & (year1.index < '2020-01-01')]\n",
    "year2 = year2.loc[(year2.index >= '2020-01-01')\n",
    "                                          & (year2.index < '2021-01-01')]\n",
    "year3 = year3.loc[(year3.index >= '2021-01-01')\n",
    "                                          & (year3.index < '2022-01-01')]\n",
    "\n",
    "# Combine 3 years\n",
    "FarmingtonCommunityHall_AQ = pd.concat([year1, year2, year3], ignore_index=True)\n",
    "FarmingtonCommunityHall_AQ.tail(24)"
   ],
   "metadata": {
    "collapsed": false,
    "pycharm": {
     "name": "#%%\n"
    }
   }
  },
  {
   "cell_type": "code",
   "execution_count": 30,
   "outputs": [
    {
     "name": "stdout",
     "output_type": "stream",
     "text": [
      "26301\n"
     ]
    },
    {
     "data": {
      "text/plain": "NOx    1377\nSO2    1513\nNO     1377\nNO2    1377\nTRS    1737\nO3     1360\ndtype: int64"
     },
     "execution_count": 30,
     "metadata": {},
     "output_type": "execute_result"
    }
   ],
   "source": [
    "# Assess the dataframe for any missing values\n",
    "print(len(FarmingtonCommunityHall_AQ))\n",
    "FarmingtonCommunityHall_AQ.isnull().sum()"
   ],
   "metadata": {
    "collapsed": false,
    "pycharm": {
     "name": "#%%\n"
    }
   }
  },
  {
   "cell_type": "markdown",
   "source": [
    "We can see that all columns are missing some data points.\n",
    "NOx: 5.24% missing values\n",
    "SO2: 5.75% missing values\n",
    "NO: 5.24% missing values\n",
    "NO2: 5.24% missing values\n",
    "TRS: 6.60% missing values\n",
    "O3: 5.17% missing values\n",
    "\n",
    "These missing values will be filled using linear interpolation."
   ],
   "metadata": {
    "collapsed": false,
    "pycharm": {
     "name": "#%% md\n"
    }
   }
  },
  {
   "cell_type": "code",
   "execution_count": 31,
   "outputs": [
    {
     "data": {
      "text/plain": "NOx    0\nSO2    0\nNO     0\nNO2    0\nTRS    0\nO3     0\ndtype: int64"
     },
     "execution_count": 31,
     "metadata": {},
     "output_type": "execute_result"
    }
   ],
   "source": [
    "# Linear interpolation for missing values\n",
    "FarmingtonCommunityHall_AQ = FarmingtonCommunityHall_AQ.interpolate(method='linear', axis = 0)\n",
    "\n",
    "# Check if there are any missing values\n",
    "FarmingtonCommunityHall_AQ.isna().sum()"
   ],
   "metadata": {
    "collapsed": false,
    "pycharm": {
     "name": "#%%\n"
    }
   }
  },
  {
   "cell_type": "code",
   "execution_count": 32,
   "outputs": [
    {
     "data": {
      "text/plain": "<Figure size 432x288 with 1 Axes>",
      "image/png": "[encoded data removed]"
     },
     "metadata": {
      "needs_background": "light"
     },
     "output_type": "display_data"
    }
   ],
   "source": [
    "ax = FarmingtonCommunityHall_AQ[\"NOx\"].hist(bins=15, density=True, stacked=True, alpha=0.3)\n",
    "FarmingtonCommunityHall_AQ[\"NOx\"].plot(kind='density')\n",
    "\n",
    "ax.set(xlabel='NOx (ppb)')\n",
    "plt.axvline(x=FarmingtonCommunityHall_AQ[\"NOx\"].mean(), color = 'red', ls='--')\n",
    "plt.axvline(x=FarmingtonCommunityHall_AQ[\"NOx\"].median(), color = 'yellow', ls='--')\n",
    "plt.text(30.1,0,'mean {}'.format(round(FarmingtonCommunityHall_AQ[\"NOx\"].mean(),1)),rotation=90)\n",
    "plt.text(25.1,0,'median {}'.format(round(FarmingtonCommunityHall_AQ[\"NOx\"].median(),1)),rotation=90)\n",
    "\n",
    "\n",
    "plt.legend()\n",
    "plt.show()"
   ],
   "metadata": {
    "collapsed": false,
    "pycharm": {
     "name": "#%%\n"
    }
   }
  },
  {
   "cell_type": "code",
   "execution_count": 33,
   "outputs": [
    {
     "data": {
      "text/plain": "Text(0, 0.5, 'O3 (ppb)')"
     },
     "execution_count": 33,
     "metadata": {},
     "output_type": "execute_result"
    },
    {
     "data": {
      "text/plain": "<Figure size 1080x720 with 6 Axes>",
      "image/png": "[encoded data removed]"
     },
     "metadata": {
      "needs_background": "light"
     },
     "output_type": "display_data"
    }
   ],
   "source": [
    "# Check for outliers\n",
    "plt.figure(figsize=(15,10))\n",
    "\n",
    "\n",
    "plt.subplot(2, 3, 1)\n",
    "fig = FarmingtonCommunityHall_AQ.boxplot(column='NOx')\n",
    "fig.set_title('')\n",
    "fig.set_ylabel('NOx (ppb)')\n",
    "\n",
    "\n",
    "plt.subplot(2, 3, 2)\n",
    "fig = FarmingtonCommunityHall_AQ.boxplot(column='SO2')\n",
    "fig.set_title('')\n",
    "fig.set_ylabel('SO2 (ppb)')\n",
    "\n",
    "\n",
    "plt.subplot(2, 3, 3)\n",
    "fig = FarmingtonCommunityHall_AQ.boxplot(column='NO')\n",
    "fig.set_title('')\n",
    "fig.set_ylabel('NO (ppb)')\n",
    "\n",
    "\n",
    "plt.subplot(2, 3, 4)\n",
    "fig = FarmingtonCommunityHall_AQ.boxplot(column='NO2')\n",
    "fig.set_title('')\n",
    "fig.set_ylabel('NO2 (ppb)')\n",
    "\n",
    "\n",
    "plt.subplot(2, 3, 5)\n",
    "fig = FarmingtonCommunityHall_AQ.boxplot(column='TRS')\n",
    "fig.set_title('')\n",
    "fig.set_ylabel('TRS (ppb)')\n",
    "\n",
    "plt.subplot(2, 3, 6)\n",
    "fig = FarmingtonCommunityHall_AQ.boxplot(column='O3')\n",
    "fig.set_title('')\n",
    "fig.set_ylabel('O3 (ppb)')"
   ],
   "metadata": {
    "collapsed": false,
    "pycharm": {
     "name": "#%%\n"
    }
   }
  },
  {
   "cell_type": "markdown",
   "source": [
    "While there are outliers, they will not be removed. They may be due to actual spikes in pollution, and it is difficult to distinguish this from possible instrument errors."
   ],
   "metadata": {
    "collapsed": false,
    "pycharm": {
     "name": "#%% md\n"
    }
   }
  },
  {
   "cell_type": "code",
   "execution_count": 34,
   "outputs": [],
   "source": [
    "# Remove rows where concentration is less than 0\n",
    "FarmingtonCommunityHall_AQ = FarmingtonCommunityHall_AQ[FarmingtonCommunityHall_AQ['NOx'] >= 0]\n",
    "FarmingtonCommunityHall_AQ = FarmingtonCommunityHall_AQ[FarmingtonCommunityHall_AQ['SO2'] >= 0]\n",
    "FarmingtonCommunityHall_AQ = FarmingtonCommunityHall_AQ[FarmingtonCommunityHall_AQ['NO'] >= 0]\n",
    "FarmingtonCommunityHall_AQ = FarmingtonCommunityHall_AQ[FarmingtonCommunityHall_AQ['NO2'] >= 0]\n",
    "FarmingtonCommunityHall_AQ = FarmingtonCommunityHall_AQ[FarmingtonCommunityHall_AQ['TRS'] >= 0]\n",
    "FarmingtonCommunityHall_AQ = FarmingtonCommunityHall_AQ[FarmingtonCommunityHall_AQ['O3'] >= 0]"
   ],
   "metadata": {
    "collapsed": false,
    "pycharm": {
     "name": "#%%\n"
    }
   }
  },
  {
   "cell_type": "code",
   "execution_count": 35,
   "outputs": [
    {
     "name": "stdout",
     "output_type": "stream",
     "text": [
      "23880\n"
     ]
    }
   ],
   "source": [
    "print(len(FarmingtonCommunityHall_AQ))"
   ],
   "metadata": {
    "collapsed": false,
    "pycharm": {
     "name": "#%%\n"
    }
   }
  },
  {
   "cell_type": "markdown",
   "source": [
    "This dropped 2,421 rows."
   ],
   "metadata": {
    "collapsed": false,
    "pycharm": {
     "name": "#%% md\n"
    }
   }
  },
  {
   "cell_type": "code",
   "execution_count": 36,
   "outputs": [],
   "source": [
    "FarmingtonCommunityHall_AQ.to_csv(\"FarmingtonCommunityHall_AQ.csv\")"
   ],
   "metadata": {
    "collapsed": false,
    "pycharm": {
     "name": "#%%\n"
    }
   }
  },
  {
   "cell_type": "code",
   "execution_count": null,
   "outputs": [],
   "source": [
    "# Calculate the mean of all pollutants over a 24 period\n",
    "FarmingtonCommunityHall_AQ_Daily = FarmingtonCommunityHall_AQ.resample('D').mean()\n",
    "FarmingtonCommunityHall_AQ_Daily.head()"
   ],
   "metadata": {
    "collapsed": false,
    "pycharm": {
     "name": "#%%\n"
    }
   }
  },
  {
   "cell_type": "code",
   "execution_count": null,
   "outputs": [],
   "source": [
    "# Calculate the mean of all pollutants over a 24 period\n",
    "FarmingtonCommunityHall_AQ_Monthly = FarmingtonCommunityHall_AQ.resample('M').mean()\n",
    "FarmingtonCommunityHall_AQ_Monthly.head()"
   ],
   "metadata": {
    "collapsed": false,
    "pycharm": {
     "name": "#%%\n"
    }
   }
  },
  {
   "cell_type": "code",
   "execution_count": null,
   "outputs": [],
   "source": [
    "plt.figure(figsize=(10,5))\n",
    "plt.plot(FarmingtonCommunityHall_AQ_Daily.index, FarmingtonCommunityHall_AQ_Daily['O3'], 'gray', label = 'Daily Mean')\n",
    "plt.plot(FarmingtonCommunityHall_AQ_Monthly.index, FarmingtonCommunityHall_AQ_Monthly['O3'], 'r', label = 'Monthly Mean')\n",
    "\n",
    "plt.ylabel('O3 Concentration (ppb)')\n",
    "plt.xlabel('Date', fontsize=14)\n",
    "\n",
    "plt.legend()\n",
    "plt.title('Daily Ozone (ppb) Concentration', fontsize=16)\n",
    "plt.show()"
   ],
   "metadata": {
    "collapsed": false,
    "pycharm": {
     "name": "#%%\n"
    }
   }
  },
  {
   "cell_type": "code",
   "execution_count": null,
   "outputs": [],
   "source": [
    "plt.figure(figsize=(10,5))\n",
    "\n",
    "plt.plot(FarmingtonCommunityHall_AQ_Daily.index, FarmingtonCommunityHall_AQ_Daily['NOx'], 'gray', label = 'Daily Mean')\n",
    "plt.plot(FarmingtonCommunityHall_AQ_Monthly.index, FarmingtonCommunityHall_AQ_Monthly['NOx'], 'r', label = 'Monthly Mean')\n",
    "\n",
    "plt.xlabel('Date', fontsize=14)\n",
    "plt.ylabel('NOx (ppb)')\n",
    "\n",
    "\n",
    "plt.title('Daily NOx Concentration', fontsize=16)\n",
    "plt.show()"
   ],
   "metadata": {
    "collapsed": false,
    "pycharm": {
     "name": "#%%\n"
    }
   }
  },
  {
   "cell_type": "code",
   "execution_count": null,
   "outputs": [],
   "source": [
    "plt.figure(figsize=(10,5))\n",
    "\n",
    "plt.plot(FarmingtonCommunityHall_AQ_Daily.index, FarmingtonCommunityHall_AQ_Daily['SO2'], 'gray', label = 'Daily Mean')\n",
    "plt.plot(FarmingtonCommunityHall_AQ_Monthly.index, FarmingtonCommunityHall_AQ_Monthly['SO2'], 'r', label = 'Monthly Mean')\n",
    "\n",
    "plt.xlabel('Date', fontsize=14)\n",
    "plt.ylabel('SO2 (ppb)')\n",
    "\n",
    "\n",
    "plt.title('Daily SO2 Concentration', fontsize=16)\n",
    "plt.show()"
   ],
   "metadata": {
    "collapsed": false,
    "pycharm": {
     "name": "#%%\n"
    }
   }
  },
  {
   "cell_type": "code",
   "execution_count": null,
   "outputs": [],
   "source": [
    "plt.figure(figsize=(10,5))\n",
    "\n",
    "plt.plot(FarmingtonCommunityHall_AQ_Daily.index, FarmingtonCommunityHall_AQ_Daily['NO'], 'gray', label = 'Daily Mean')\n",
    "plt.plot(FarmingtonCommunityHall_AQ_Monthly.index, FarmingtonCommunityHall_AQ_Monthly['NO'], 'r', label = 'Monthly Mean')\n",
    "\n",
    "plt.xlabel('Date', fontsize=14)\n",
    "plt.ylabel('NO (ppb)')\n",
    "\n",
    "\n",
    "plt.title('Daily NO Concentration', fontsize=16)\n",
    "plt.show()"
   ],
   "metadata": {
    "collapsed": false,
    "pycharm": {
     "name": "#%%\n"
    }
   }
  },
  {
   "cell_type": "code",
   "execution_count": null,
   "outputs": [],
   "source": [
    "plt.figure(figsize=(10,5))\n",
    "\n",
    "plt.plot(FarmingtonCommunityHall_AQ_Daily.index, FarmingtonCommunityHall_AQ_Daily['NO2'], 'gray', label = 'Daily Mean')\n",
    "plt.plot(FarmingtonCommunityHall_AQ_Monthly.index, FarmingtonCommunityHall_AQ_Monthly['NO2'], 'r', label = 'Monthly Mean')\n",
    "\n",
    "\n",
    "plt.xlabel('Date', fontsize=14)\n",
    "plt.ylabel('NO2 (ppb)')\n",
    "\n",
    "\n",
    "plt.title('Daily NO2 Concentration', fontsize=16)\n",
    "plt.show()"
   ],
   "metadata": {
    "collapsed": false,
    "pycharm": {
     "name": "#%%\n"
    }
   }
  },
  {
   "cell_type": "code",
   "execution_count": null,
   "outputs": [],
   "source": [
    "plt.figure(figsize=(10,5))\n",
    "\n",
    "plt.plot(FarmingtonCommunityHall_AQ_Daily.index, FarmingtonCommunityHall_AQ_Daily['TRS'], 'gray', label = 'Daily Mean')\n",
    "plt.plot(FarmingtonCommunityHall_AQ_Monthly.index, FarmingtonCommunityHall_AQ_Monthly['TRS'], 'r', label = 'Monthly Mean')\n",
    "\n",
    "\n",
    "plt.xlabel('Date', fontsize=14)\n",
    "plt.ylabel('TRS (ppb)')\n",
    "\n",
    "\n",
    "plt.title('Daily TRS Concentration', fontsize=16)\n",
    "plt.show()"
   ],
   "metadata": {
    "collapsed": false,
    "pycharm": {
     "name": "#%%\n"
    }
   }
  },
  {
   "cell_type": "code",
   "execution_count": null,
   "outputs": [],
   "source": [
    "# Drop O3 from dataframe for boxplot\n",
    "no_O3 = FarmingtonCommunityHall_AQ.drop(['O3'], axis=1)\n",
    "O3 = FarmingtonCommunityHall_AQ[['O3']]\n",
    "O3.head()"
   ],
   "metadata": {
    "collapsed": false,
    "pycharm": {
     "name": "#%%\n"
    }
   }
  },
  {
   "cell_type": "code",
   "execution_count": null,
   "outputs": [],
   "source": [
    "# Distribution of concentrations over 3 year period\n",
    "sns.boxplot(x=\"variable\", y=\"value\", data=pd.melt(no_O3),\n",
    "           showfliers = False)"
   ],
   "metadata": {
    "collapsed": false,
    "pycharm": {
     "name": "#%%\n"
    }
   }
  },
  {
   "cell_type": "code",
   "execution_count": null,
   "outputs": [],
   "source": [
    "# Distribution for O3 over 3 year period\n",
    "sns.boxplot(x=\"variable\", y=\"value\", data=pd.melt(no_O3),\n",
    "           showfliers = False)"
   ],
   "metadata": {
    "collapsed": false,
    "pycharm": {
     "name": "#%%\n"
    }
   }
  }
 ],
 "metadata": {
  "kernelspec": {
   "display_name": "Python 3",
   "language": "python",
   "name": "python3"
  },
  "language_info": {
   "codemirror_mode": {
    "name": "ipython",
    "version": 2
   },
   "file_extension": ".py",
   "mimetype": "text/x-python",
   "name": "python",
   "nbconvert_exporter": "python",
   "pygments_lexer": "ipython2",
   "version": "2.7.6"
  }
 },
 "nbformat": 4,
 "nbformat_minor": 0
}