{
 "cells": [
  {
   "cell_type": "code",
   "execution_count": 7,
   "metadata": {
    "id": "PTZbUs5HGYYS"
   },
   "outputs": [],
   "source": [
    "import pandas as pd\n",
    "import seaborn as sns\n",
    "import matplotlib.pyplot as plt"
   ]
  },
  {
   "cell_type": "code",
   "execution_count": 2,
   "metadata": {
    "colab": {
     "base_uri": "https://localhost:8080/",
     "height": 488
    },
    "id": "8Nl-BuxJGi26",
    "outputId": "af5ceae9-37a4-425d-bf87-654ab737d7df"
   },
   "outputs": [
    {
     "data": {
      "text/plain": "   wa_num  compltn_event_seq  prod_period               UWI  area_code  \\\n0      70                  0       201901  200C032D094A1300       1400   \n1      70                  0       201904  200C032D094A1300       1400   \n2      70                  0       201905  200C032D094A1300       1400   \n3      70                  0       201906  200C032D094A1300       1400   \n4      70                  0       201907  200C032D094A1300       1400   \n\n   formtn_code Pool_seq  gas_prod_vol_m3  oil_prod_vol_m3  water_prod_vol_m3  \\\n0         2900        B              8.3              0.0                0.8   \n1         2900        B             57.8              0.0               12.0   \n2         2900        B             95.1              0.0               33.6   \n3         2900        B            123.4              0.0               13.8   \n4         2900        B            113.6              0.0               19.2   \n\n   cond_prod_vol_m3  prod_days   gas_prod_cum_m3  oil_prod_cum_m3  \\\n0               0.1         2.0           2467.0              0.0   \n1               0.5        13.0           2524.8              0.0   \n2               1.6        24.0           2619.9              0.0   \n3               2.0        30.0           2743.3              0.0   \n4               1.9        29.0           2856.9              0.0   \n\n   water_prod_cum_m3  cond_prod_cum_m3  project_code  \n0              251.3              30.9             2  \n1              263.3              31.4             2  \n2              296.9              33.0             2  \n3              310.7              35.0             2  \n4              329.9              36.9             2  ",
      "text/html": "<div>\n<style scoped>\n    .dataframe tbody tr th:only-of-type {\n        vertical-align: middle;\n    }\n\n    .dataframe tbody tr th {\n        vertical-align: top;\n    }\n\n    .dataframe thead th {\n        text-align: right;\n    }\n</style>\n<table border=\"1\" class=\"dataframe\">\n  <thead>\n    <tr style=\"text-align: right;\">\n      <th></th>\n      <th>wa_num</th>\n      <th>compltn_event_seq</th>\n      <th>prod_period</th>\n      <th>UWI</th>\n      <th>area_code</th>\n      <th>formtn_code</th>\n      <th>Pool_seq</th>\n      <th>gas_prod_vol_m3</th>\n      <th>oil_prod_vol_m3</th>\n      <th>water_prod_vol_m3</th>\n      <th>cond_prod_vol_m3</th>\n      <th>prod_days</th>\n      <th>gas_prod_cum_m3</th>\n      <th>oil_prod_cum_m3</th>\n      <th>water_prod_cum_m3</th>\n      <th>cond_prod_cum_m3</th>\n      <th>project_code</th>\n    </tr>\n  </thead>\n  <tbody>\n    <tr>\n      <th>0</th>\n      <td>70</td>\n      <td>0</td>\n      <td>201901</td>\n      <td>200C032D094A1300</td>\n      <td>1400</td>\n      <td>2900</td>\n      <td>B</td>\n      <td>8.3</td>\n      <td>0.0</td>\n      <td>0.8</td>\n      <td>0.1</td>\n      <td>2.0</td>\n      <td>2467.0</td>\n      <td>0.0</td>\n      <td>251.3</td>\n      <td>30.9</td>\n      <td>2</td>\n    </tr>\n    <tr>\n      <th>1</th>\n      <td>70</td>\n      <td>0</td>\n      <td>201904</td>\n      <td>200C032D094A1300</td>\n      <td>1400</td>\n      <td>2900</td>\n      <td>B</td>\n      <td>57.8</td>\n      <td>0.0</td>\n      <td>12.0</td>\n      <td>0.5</td>\n      <td>13.0</td>\n      <td>2524.8</td>\n      <td>0.0</td>\n      <td>263.3</td>\n      <td>31.4</td>\n      <td>2</td>\n    </tr>\n    <tr>\n      <th>2</th>\n      <td>70</td>\n      <td>0</td>\n      <td>201905</td>\n      <td>200C032D094A1300</td>\n      <td>1400</td>\n      <td>2900</td>\n      <td>B</td>\n      <td>95.1</td>\n      <td>0.0</td>\n      <td>33.6</td>\n      <td>1.6</td>\n      <td>24.0</td>\n      <td>2619.9</td>\n      <td>0.0</td>\n      <td>296.9</td>\n      <td>33.0</td>\n      <td>2</td>\n    </tr>\n    <tr>\n      <th>3</th>\n      <td>70</td>\n      <td>0</td>\n      <td>201906</td>\n      <td>200C032D094A1300</td>\n      <td>1400</td>\n      <td>2900</td>\n      <td>B</td>\n      <td>123.4</td>\n      <td>0.0</td>\n      <td>13.8</td>\n      <td>2.0</td>\n      <td>30.0</td>\n      <td>2743.3</td>\n      <td>0.0</td>\n      <td>310.7</td>\n      <td>35.0</td>\n      <td>2</td>\n    </tr>\n    <tr>\n      <th>4</th>\n      <td>70</td>\n      <td>0</td>\n      <td>201907</td>\n      <td>200C032D094A1300</td>\n      <td>1400</td>\n      <td>2900</td>\n      <td>B</td>\n      <td>113.6</td>\n      <td>0.0</td>\n      <td>19.2</td>\n      <td>1.9</td>\n      <td>29.0</td>\n      <td>2856.9</td>\n      <td>0.0</td>\n      <td>329.9</td>\n      <td>36.9</td>\n      <td>2</td>\n    </tr>\n  </tbody>\n</table>\n</div>"
     },
     "execution_count": 2,
     "metadata": {},
     "output_type": "execute_result"
    }
   ],
   "source": [
    "prod_2019=pd.read_csv(r'C:\\Users\\user\\PycharmProjects\\CIV1498Project2\\0-Raw_data\\prod_2019.csv')\n",
    "prod_2019.head()"
   ]
  },
  {
   "cell_type": "code",
   "execution_count": 12,
   "metadata": {
    "colab": {
     "base_uri": "https://localhost:8080/",
     "height": 423
    },
    "id": "G4sUOufvHwi_",
    "outputId": "c09673ca-55f8-4346-8b37-9987f58d1904"
   },
   "outputs": [
    {
     "data": {
      "text/plain": "   prod_period  gas_prod_vol_m3\n0       201901              8.3\n1       201904             57.8\n2       201905             95.1\n3       201906            123.4\n4       201907            113.6",
      "text/html": "<div>\n<style scoped>\n    .dataframe tbody tr th:only-of-type {\n        vertical-align: middle;\n    }\n\n    .dataframe tbody tr th {\n        vertical-align: top;\n    }\n\n    .dataframe thead th {\n        text-align: right;\n    }\n</style>\n<table border=\"1\" class=\"dataframe\">\n  <thead>\n    <tr style=\"text-align: right;\">\n      <th></th>\n      <th>prod_period</th>\n      <th>gas_prod_vol_m3</th>\n    </tr>\n  </thead>\n  <tbody>\n    <tr>\n      <th>0</th>\n      <td>201901</td>\n      <td>8.3</td>\n    </tr>\n    <tr>\n      <th>1</th>\n      <td>201904</td>\n      <td>57.8</td>\n    </tr>\n    <tr>\n      <th>2</th>\n      <td>201905</td>\n      <td>95.1</td>\n    </tr>\n    <tr>\n      <th>3</th>\n      <td>201906</td>\n      <td>123.4</td>\n    </tr>\n    <tr>\n      <th>4</th>\n      <td>201907</td>\n      <td>113.6</td>\n    </tr>\n  </tbody>\n</table>\n</div>"
     },
     "execution_count": 12,
     "metadata": {},
     "output_type": "execute_result"
    }
   ],
   "source": [
    "df_filter=prod_2019[['prod_period', 'gas_prod_vol_m3']]\n",
    "df_filter.head()"
   ]
  },
  {
   "cell_type": "code",
   "execution_count": 5,
   "metadata": {
    "colab": {
     "base_uri": "https://localhost:8080/",
     "height": 457
    },
    "id": "XRNF6G16IM4H",
    "outputId": "34b0081b-4c39-4b64-d0b9-78e37df308e5",
    "pycharm": {
     "name": "#%%\n"
    }
   },
   "outputs": [
    {
     "data": {
      "text/plain": "             gas_prod_vol_m3\nprod_period                 \n201901             5213817.1\n201902             4704358.5\n201903             5223571.0\n201904             4807638.7\n201905             4561579.5",
      "text/html": "<div>\n<style scoped>\n    .dataframe tbody tr th:only-of-type {\n        vertical-align: middle;\n    }\n\n    .dataframe tbody tr th {\n        vertical-align: top;\n    }\n\n    .dataframe thead th {\n        text-align: right;\n    }\n</style>\n<table border=\"1\" class=\"dataframe\">\n  <thead>\n    <tr style=\"text-align: right;\">\n      <th></th>\n      <th>gas_prod_vol_m3</th>\n    </tr>\n    <tr>\n      <th>prod_period</th>\n      <th></th>\n    </tr>\n  </thead>\n  <tbody>\n    <tr>\n      <th>201901</th>\n      <td>5213817.1</td>\n    </tr>\n    <tr>\n      <th>201902</th>\n      <td>4704358.5</td>\n    </tr>\n    <tr>\n      <th>201903</th>\n      <td>5223571.0</td>\n    </tr>\n    <tr>\n      <th>201904</th>\n      <td>4807638.7</td>\n    </tr>\n    <tr>\n      <th>201905</th>\n      <td>4561579.5</td>\n    </tr>\n  </tbody>\n</table>\n</div>"
     },
     "execution_count": 5,
     "metadata": {},
     "output_type": "execute_result"
    }
   ],
   "source": [
    "df_result=df_filter.groupby(by=\"prod_period\").sum()\n",
    "df_result.head()"
   ]
  }
 ],
 "metadata": {
  "colab": {
   "name": "Untitled0.ipynb",
   "provenance": []
  },
  "kernelspec": {
   "display_name": "Python 3",
   "language": "python",
   "name": "python3"
  },
  "language_info": {
   "codemirror_mode": {
    "name": "ipython",
    "version": 3
   },
   "file_extension": ".py",
   "mimetype": "text/x-python",
   "name": "python",
   "nbconvert_exporter": "python",
   "pygments_lexer": "ipython3",
   "version": "3.7.11"
  }
 },
 "nbformat": 4,
 "nbformat_minor": 1
}